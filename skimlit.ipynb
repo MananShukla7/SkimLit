{
  "cells": [
    {
      "cell_type": "markdown",
      "metadata": {
        "id": "view-in-github",
        "colab_type": "text"
      },
      "source": [
        "<a href=\"https://colab.research.google.com/github/MananShukla7/SkimLit/blob/main/skimlit.ipynb\" target=\"_parent\"><img src=\"https://colab.research.google.com/assets/colab-badge.svg\" alt=\"Open In Colab\"/></a>"
      ]
    },
    {
      "cell_type": "markdown",
      "source": [
        "#Project : SkimLit📝🔥\n",
        "\n",
        "`Short for Skimming Literature`\n",
        "\n",
        "The purpose of this notebook is to build a NLP model to make reading medical abstracts\n",
        "a lot easier\n",
        "\n",
        "The Dataset that we are using is PubMed 200k RCT and the paper we are replicating is :\n",
        "https://arxiv.org/abs/1710.06071\n",
        "\n"
      ],
      "metadata": {
        "id": "f5Wtz0v3JfiU"
      }
    },
    {
      "cell_type": "markdown",
      "source": [
        "##Confirming access to GPU"
      ],
      "metadata": {
        "id": "f3OkofP3JhS4"
      }
    },
    {
      "cell_type": "code",
      "source": [
        "!nvidia-smi"
      ],
      "metadata": {
        "id": "nt2jg2siMAn0",
        "outputId": "f3c03fbb-9ebb-4fe6-b19d-1b1e5d31127d",
        "colab": {
          "base_uri": "https://localhost:8080/"
        }
      },
      "execution_count": null,
      "outputs": [
        {
          "output_type": "stream",
          "name": "stdout",
          "text": [
            "Fri Jun  2 17:38:48 2023       \n",
            "+-----------------------------------------------------------------------------+\n",
            "| NVIDIA-SMI 525.85.12    Driver Version: 525.85.12    CUDA Version: 12.0     |\n",
            "|-------------------------------+----------------------+----------------------+\n",
            "| GPU  Name        Persistence-M| Bus-Id        Disp.A | Volatile Uncorr. ECC |\n",
            "| Fan  Temp  Perf  Pwr:Usage/Cap|         Memory-Usage | GPU-Util  Compute M. |\n",
            "|                               |                      |               MIG M. |\n",
            "|===============================+======================+======================|\n",
            "|   0  Tesla T4            Off  | 00000000:00:04.0 Off |                    0 |\n",
            "| N/A   49C    P8    10W /  70W |      0MiB / 15360MiB |      0%      Default |\n",
            "|                               |                      |                  N/A |\n",
            "+-------------------------------+----------------------+----------------------+\n",
            "                                                                               \n",
            "+-----------------------------------------------------------------------------+\n",
            "| Processes:                                                                  |\n",
            "|  GPU   GI   CI        PID   Type   Process name                  GPU Memory |\n",
            "|        ID   ID                                                   Usage      |\n",
            "|=============================================================================|\n",
            "|  No running processes found                                                 |\n",
            "+-----------------------------------------------------------------------------+\n"
          ]
        }
      ]
    },
    {
      "cell_type": "markdown",
      "source": [
        "##Getting Data\n",
        "\n",
        "Downloading the dataset from the paper's author: https://github.com/Franck-Dernoncourt/pubmed-rct"
      ],
      "metadata": {
        "id": "zx1_tz6dMCtY"
      }
    },
    {
      "cell_type": "code",
      "source": [
        "!git clone https://github.com/Franck-Dernoncourt/pubmed-rct\n",
        "!ls pubmed-rct"
      ],
      "metadata": {
        "id": "nwuTSmjkNPes",
        "outputId": "36e13891-55b7-4ff0-a122-f926ec5d23b7",
        "colab": {
          "base_uri": "https://localhost:8080/"
        }
      },
      "execution_count": 28,
      "outputs": [
        {
          "output_type": "stream",
          "name": "stdout",
          "text": [
            "fatal: destination path 'pubmed-rct' already exists and is not an empty directory.\n",
            "PubMed_200k_RCT\n",
            "PubMed_200k_RCT_numbers_replaced_with_at_sign\n",
            "PubMed_20k_RCT\n",
            "PubMed_20k_RCT_numbers_replaced_with_at_sign\n",
            "README.md\n"
          ]
        }
      ]
    },
    {
      "cell_type": "code",
      "source": [
        "#Check what filer are in the PubMed 20k dataset\n",
        "!ls /content/pubmed-rct/PubMed_20k_RCT_numbers_replaced_with_at_sign/"
      ],
      "metadata": {
        "id": "R0P4oTPNNeAZ",
        "outputId": "a1ac1437-9213-4907-cc1d-d0add9fd2a24",
        "colab": {
          "base_uri": "https://localhost:8080/"
        }
      },
      "execution_count": 29,
      "outputs": [
        {
          "output_type": "stream",
          "name": "stdout",
          "text": [
            "dev.txt  test.txt  train.txt\n"
          ]
        }
      ]
    },
    {
      "cell_type": "code",
      "source": [
        "#Start our experiments by exploring and experimenting on 20k dataset!\n",
        "data_dir=\"/content/pubmed-rct/PubMed_20k_RCT_numbers_replaced_with_at_sign\""
      ],
      "metadata": {
        "id": "N3cAwO1vN5rs"
      },
      "execution_count": 30,
      "outputs": []
    },
    {
      "cell_type": "code",
      "source": [
        "#Check all of the filename of its directory\n",
        "import os\n",
        "filenames=[data_dir+\"/\"+filename for filename in os.listdir(data_dir)]\n",
        "filenames"
      ],
      "metadata": {
        "id": "WbqcPkDbP0XM",
        "outputId": "262513ef-a002-4a35-ae54-fd60be5bfd94",
        "colab": {
          "base_uri": "https://localhost:8080/"
        }
      },
      "execution_count": 31,
      "outputs": [
        {
          "output_type": "execute_result",
          "data": {
            "text/plain": [
              "['/content/pubmed-rct/PubMed_20k_RCT_numbers_replaced_with_at_sign/dev.txt',\n",
              " '/content/pubmed-rct/PubMed_20k_RCT_numbers_replaced_with_at_sign/train.txt',\n",
              " '/content/pubmed-rct/PubMed_20k_RCT_numbers_replaced_with_at_sign/test.txt']"
            ]
          },
          "metadata": {},
          "execution_count": 31
        }
      ]
    },
    {
      "cell_type": "markdown",
      "source": [
        "##Data Preprocessing\n",
        "\n",
        "Now we've got some text data, now we have to explore it throughly.\n",
        "\n",
        "To do that we need to visualise it first."
      ],
      "metadata": {
        "id": "LjNIWXwOQGc1"
      }
    },
    {
      "cell_type": "code",
      "source": [
        "#Reading the files with python\n",
        "\n",
        "def get_lines(filename):\n",
        "  \"\"\"\n",
        "  Reads the filename (a text filename) and returns all of the lines of the text file\n",
        "  as a list.\n",
        "\n",
        "  Args:\n",
        "  filname: a string containing the target filepath\n",
        "\n",
        "  Returns:\n",
        "  A list of string with one string per line from the input text line\n",
        "  \"\"\"\n",
        "  f=open(filename,\"r\")\n",
        "  return f.readlines()\n",
        "\n"
      ],
      "metadata": {
        "id": "8Kc-tUL-QeKl"
      },
      "execution_count": 32,
      "outputs": []
    },
    {
      "cell_type": "code",
      "source": [
        "# Let's read into the training lines\n",
        "train_dir=filenames[1]\n",
        "train_lines=get_lines(train_dir)\n",
        "train_lines[:20]"
      ],
      "metadata": {
        "id": "hoS-O84KTF5r",
        "outputId": "2ebba3a2-464a-4a9b-c1f0-8239bdff9f9d",
        "colab": {
          "base_uri": "https://localhost:8080/"
        }
      },
      "execution_count": 33,
      "outputs": [
        {
          "output_type": "execute_result",
          "data": {
            "text/plain": [
              "['###24293578\\n',\n",
              " 'OBJECTIVE\\tTo investigate the efficacy of @ weeks of daily low-dose oral prednisolone in improving pain , mobility , and systemic low-grade inflammation in the short term and whether the effect would be sustained at @ weeks in older adults with moderate to severe knee osteoarthritis ( OA ) .\\n',\n",
              " 'METHODS\\tA total of @ patients with primary knee OA were randomized @:@ ; @ received @ mg/day of prednisolone and @ received placebo for @ weeks .\\n',\n",
              " 'METHODS\\tOutcome measures included pain reduction and improvement in function scores and systemic inflammation markers .\\n',\n",
              " 'METHODS\\tPain was assessed using the visual analog pain scale ( @-@ mm ) .\\n',\n",
              " 'METHODS\\tSecondary outcome measures included the Western Ontario and McMaster Universities Osteoarthritis Index scores , patient global assessment ( PGA ) of the severity of knee OA , and @-min walk distance ( @MWD ) .\\n',\n",
              " 'METHODS\\tSerum levels of interleukin @ ( IL-@ ) , IL-@ , tumor necrosis factor ( TNF ) - , and high-sensitivity C-reactive protein ( hsCRP ) were measured .\\n',\n",
              " 'RESULTS\\tThere was a clinically relevant reduction in the intervention group compared to the placebo group for knee pain , physical function , PGA , and @MWD at @ weeks .\\n',\n",
              " 'RESULTS\\tThe mean difference between treatment arms ( @ % CI ) was @ ( @-@ @ ) , p < @ ; @ ( @-@ @ ) , p < @ ; @ ( @-@ @ ) , p < @ ; and @ ( @-@ @ ) , p < @ , respectively .\\n',\n",
              " 'RESULTS\\tFurther , there was a clinically relevant reduction in the serum levels of IL-@ , IL-@ , TNF - , and hsCRP at @ weeks in the intervention group when compared to the placebo group .\\n',\n",
              " 'RESULTS\\tThese differences remained significant at @ weeks .\\n',\n",
              " 'RESULTS\\tThe Outcome Measures in Rheumatology Clinical Trials-Osteoarthritis Research Society International responder rate was @ % in the intervention group and @ % in the placebo group ( p < @ ) .\\n',\n",
              " 'CONCLUSIONS\\tLow-dose oral prednisolone had both a short-term and a longer sustained effect resulting in less knee pain , better physical function , and attenuation of systemic inflammation in older patients with knee OA ( ClinicalTrials.gov identifier NCT@ ) .\\n',\n",
              " '\\n',\n",
              " '###24854809\\n',\n",
              " 'BACKGROUND\\tEmotional eating is associated with overeating and the development of obesity .\\n',\n",
              " 'BACKGROUND\\tYet , empirical evidence for individual ( trait ) differences in emotional eating and cognitive mechanisms that contribute to eating during sad mood remain equivocal .\\n',\n",
              " 'OBJECTIVE\\tThe aim of this study was to test if attention bias for food moderates the effect of self-reported emotional eating during sad mood ( vs neutral mood ) on actual food intake .\\n',\n",
              " 'OBJECTIVE\\tIt was expected that emotional eating is predictive of elevated attention for food and higher food intake after an experimentally induced sad mood and that attentional maintenance on food predicts food intake during a sad versus a neutral mood .\\n',\n",
              " 'METHODS\\tParticipants ( N = @ ) were randomly assigned to one of the two experimental mood induction conditions ( sad/neutral ) .\\n']"
            ]
          },
          "metadata": {},
          "execution_count": 33
        }
      ]
    },
    {
      "cell_type": "code",
      "source": [
        "len(train_lines)"
      ],
      "metadata": {
        "id": "Gdn2ldMiUBvm",
        "outputId": "a4faed1f-f290-43ef-83b4-deb35760a932",
        "colab": {
          "base_uri": "https://localhost:8080/"
        }
      },
      "execution_count": 34,
      "outputs": [
        {
          "output_type": "execute_result",
          "data": {
            "text/plain": [
              "210040"
            ]
          },
          "metadata": {},
          "execution_count": 34
        }
      ]
    },
    {
      "cell_type": "markdown",
      "source": [
        "###Data Structuring\n",
        "\n",
        "Representing this data into dictionaries as it is easily manipulated.\n",
        "\n",
        "A sample structure would look like:\n",
        "\n",
        "```[{'line_number' : 0,\n",
        "   'target' : 'BACKGROUND',\n",
        "   'text' : 'Emotional eating is associated with overeating and the development of obesity .\\n',\n",
        "   'total_lines' : 11, \n",
        "   ...\n",
        "   }]```"
      ],
      "metadata": {
        "id": "toyERzUDUDuq"
      }
    },
    {
      "cell_type": "code",
      "source": [
        "def lst_to_dict(txtData):\n",
        "  types=[\"BACKGROUND\", \"OBJECTIVE\", \"METHODS\", \"RESULTS\", \"CONCLUSION\"]\n",
        "  linecount=0\n",
        "  data=dict()\n",
        "  for txt in txtData:\n",
        "    if \"###\" in txt:\n",
        "        start_index=txtData.index(txt)\n",
        "        end_index=txtData.index(\"\\n\")\n",
        "        total_lines=end_index-start_index\n",
        "        # dict.update()\n",
        "    else:\n",
        "      for typ in types:\n",
        "        if typ in txt:\n",
        "          target=typ\n",
        "\n",
        "      start=txt.find(\"\\t\")\n",
        "      end=txt.find(\".\\n\")\n",
        "      text=txt[start:end+1]\n",
        "      \n",
        "      \n",
        "      \n",
        "\n",
        "      update_val={\"line_number\":linecount,\n",
        "                  \"target\":target,\n",
        "                  \"text\":text,\n",
        "                  \"total_line\":total_lines}\n",
        "      data.update(update_val)\n",
        "      print(f\"[line_number:{linecount},\\ntarget:{target},\\ntext:{text},\\ntotal_line:{total_lines}]\\n\\n\")\n",
        "    linecount+=1\n",
        "\n",
        "  \n",
        "  return data\n",
        "\n",
        "\n",
        "\n",
        "\n",
        "  \n",
        "    \n",
        "    "
      ],
      "metadata": {
        "id": "rBa4bjjeVrtY"
      },
      "execution_count": 63,
      "outputs": []
    },
    {
      "cell_type": "code",
      "source": [
        "d=lst_to_dict(train_lines[:15])\n",
        "d"
      ],
      "metadata": {
        "id": "D8DQjZcbd8Oy",
        "outputId": "0428dbf4-440a-461f-ec03-7cb0a853b136",
        "colab": {
          "base_uri": "https://localhost:8080/"
        }
      },
      "execution_count": 64,
      "outputs": [
        {
          "output_type": "stream",
          "name": "stdout",
          "text": [
            "[line_number:1,\n",
            "target:OBJECTIVE,\n",
            "text:\tTo investigate the efficacy of @ weeks of daily low-dose oral prednisolone in improving pain , mobility , and systemic low-grade inflammation in the short term and whether the effect would be sustained at @ weeks in older adults with moderate to severe knee osteoarthritis ( OA ) .,\n",
            "total_line:13]\n",
            "\n",
            "\n",
            "[line_number:2,\n",
            "target:METHODS,\n",
            "text:\tA total of @ patients with primary knee OA were randomized @:@ ; @ received @ mg/day of prednisolone and @ received placebo for @ weeks .,\n",
            "total_line:13]\n",
            "\n",
            "\n",
            "[line_number:3,\n",
            "target:METHODS,\n",
            "text:\tOutcome measures included pain reduction and improvement in function scores and systemic inflammation markers .,\n",
            "total_line:13]\n",
            "\n",
            "\n",
            "[line_number:4,\n",
            "target:METHODS,\n",
            "text:\tPain was assessed using the visual analog pain scale ( @-@ mm ) .,\n",
            "total_line:13]\n",
            "\n",
            "\n",
            "[line_number:5,\n",
            "target:METHODS,\n",
            "text:\tSecondary outcome measures included the Western Ontario and McMaster Universities Osteoarthritis Index scores , patient global assessment ( PGA ) of the severity of knee OA , and @-min walk distance ( @MWD ) .,\n",
            "total_line:13]\n",
            "\n",
            "\n",
            "[line_number:6,\n",
            "target:METHODS,\n",
            "text:\tSerum levels of interleukin @ ( IL-@ ) , IL-@ , tumor necrosis factor ( TNF ) - , and high-sensitivity C-reactive protein ( hsCRP ) were measured .,\n",
            "total_line:13]\n",
            "\n",
            "\n",
            "[line_number:7,\n",
            "target:RESULTS,\n",
            "text:\tThere was a clinically relevant reduction in the intervention group compared to the placebo group for knee pain , physical function , PGA , and @MWD at @ weeks .,\n",
            "total_line:13]\n",
            "\n",
            "\n",
            "[line_number:8,\n",
            "target:RESULTS,\n",
            "text:\tThe mean difference between treatment arms ( @ % CI ) was @ ( @-@ @ ) , p < @ ; @ ( @-@ @ ) , p < @ ; @ ( @-@ @ ) , p < @ ; and @ ( @-@ @ ) , p < @ , respectively .,\n",
            "total_line:13]\n",
            "\n",
            "\n",
            "[line_number:9,\n",
            "target:RESULTS,\n",
            "text:\tFurther , there was a clinically relevant reduction in the serum levels of IL-@ , IL-@ , TNF - , and hsCRP at @ weeks in the intervention group when compared to the placebo group .,\n",
            "total_line:13]\n",
            "\n",
            "\n",
            "[line_number:10,\n",
            "target:RESULTS,\n",
            "text:\tThese differences remained significant at @ weeks .,\n",
            "total_line:13]\n",
            "\n",
            "\n",
            "[line_number:11,\n",
            "target:RESULTS,\n",
            "text:\tThe Outcome Measures in Rheumatology Clinical Trials-Osteoarthritis Research Society International responder rate was @ % in the intervention group and @ % in the placebo group ( p < @ ) .,\n",
            "total_line:13]\n",
            "\n",
            "\n",
            "[line_number:12,\n",
            "target:CONCLUSION,\n",
            "text:\tLow-dose oral prednisolone had both a short-term and a longer sustained effect resulting in less knee pain , better physical function , and attenuation of systemic inflammation in older patients with knee OA ( ClinicalTrials.gov identifier NCT@ ) .,\n",
            "total_line:13]\n",
            "\n",
            "\n",
            "[line_number:13,\n",
            "target:CONCLUSION,\n",
            "text:,\n",
            "total_line:13]\n",
            "\n",
            "\n"
          ]
        },
        {
          "output_type": "execute_result",
          "data": {
            "text/plain": [
              "{'line_number': 13, 'target': 'CONCLUSION', 'text': '', 'total_line': 13}"
            ]
          },
          "metadata": {},
          "execution_count": 64
        }
      ]
    },
    {
      "cell_type": "code",
      "source": [
        "str1=\"###35279E\"\n",
        "x=\"###\" in str1\n",
        "x"
      ],
      "metadata": {
        "id": "pS-m8fQDUhoF"
      },
      "execution_count": null,
      "outputs": []
    },
    {
      "cell_type": "code",
      "source": [
        "l1=[\"BAKCGROUND\",\"obj\\n\",\"\\n\"]\n",
        "str2=\"BAKCGROUND \\n ribdiuabda oddnaoid.\\n\"\n",
        "for i in l1:\n",
        "  print(i)\n",
        "  if i in str2:\n",
        "    x=i\n",
        "s=str2.find(\"KC\")\n",
        "x,s"
      ],
      "metadata": {
        "id": "Vg8hF3R1XOzn"
      },
      "execution_count": null,
      "outputs": []
    },
    {
      "cell_type": "code",
      "source": [
        "str2[0:2]"
      ],
      "metadata": {
        "id": "5qxYez7EZWlp"
      },
      "execution_count": null,
      "outputs": []
    },
    {
      "cell_type": "code",
      "source": [
        "l1.index(\"\\n\")"
      ],
      "metadata": {
        "id": "Btk4aqJDbNQZ"
      },
      "execution_count": null,
      "outputs": []
    },
    {
      "cell_type": "code",
      "source": [],
      "metadata": {
        "id": "Szwf-AEZbxc1"
      },
      "execution_count": null,
      "outputs": []
    }
  ],
  "metadata": {
    "kernelspec": {
      "display_name": "Python 3",
      "name": "python3"
    },
    "language_info": {
      "codemirror_mode": {
        "name": "ipython",
        "version": 3
      },
      "file_extension": ".py",
      "mimetype": "text/x-python",
      "name": "python",
      "nbconvert_exporter": "python",
      "pygments_lexer": "ipython3",
      "version": "3.10.4"
    },
    "orig_nbformat": 4,
    "colab": {
      "provenance": [],
      "gpuType": "T4",
      "include_colab_link": true
    }
  },
  "nbformat": 4,
  "nbformat_minor": 0
}