{
  "cells": [
    {
      "cell_type": "markdown",
      "metadata": {
        "id": "view-in-github",
        "colab_type": "text"
      },
      "source": [
        "<a href=\"https://colab.research.google.com/github/MananShukla7/SkimLit/blob/main/skimlit.ipynb\" target=\"_parent\"><img src=\"https://colab.research.google.com/assets/colab-badge.svg\" alt=\"Open In Colab\"/></a>"
      ]
    },
    {
      "cell_type": "markdown",
      "source": [
        "#Project : SkimLit📝🔥\n",
        "\n",
        "`Short for Skimming Literature`\n",
        "\n",
        "The purpose of this notebook is to build a NLP model to make reading medical abstracts\n",
        "a lot easier\n",
        "\n",
        "The Dataset that we are using is PubMed 200k RCT and the paper we are replicating is :\n",
        "https://arxiv.org/abs/1710.06071\n",
        "\n"
      ],
      "metadata": {
        "id": "f5Wtz0v3JfiU"
      }
    },
    {
      "cell_type": "markdown",
      "source": [
        "##Confirming access to GPU"
      ],
      "metadata": {
        "id": "f3OkofP3JhS4"
      }
    },
    {
      "cell_type": "code",
      "source": [
        "!nvidia-smi"
      ],
      "metadata": {
        "id": "nt2jg2siMAn0",
        "outputId": "6c3d08d5-3293-47f2-f625-cc1439c2ce2f",
        "colab": {
          "base_uri": "https://localhost:8080/"
        }
      },
      "execution_count": 1,
      "outputs": [
        {
          "output_type": "stream",
          "name": "stdout",
          "text": [
            "/bin/bash: nvidia-smi: command not found\n"
          ]
        }
      ]
    },
    {
      "cell_type": "markdown",
      "source": [
        "##Getting Data\n",
        "\n",
        "Downloading the dataset from the paper's author: https://github.com/Franck-Dernoncourt/pubmed-rct"
      ],
      "metadata": {
        "id": "zx1_tz6dMCtY"
      }
    },
    {
      "cell_type": "code",
      "source": [
        "!git clone https://github.com/Franck-Dernoncourt/pubmed-rct\n",
        "!ls pubmed-rct"
      ],
      "metadata": {
        "id": "nwuTSmjkNPes",
        "outputId": "bf06bd13-476f-4fd8-a5e4-4f4f28130013",
        "colab": {
          "base_uri": "https://localhost:8080/"
        }
      },
      "execution_count": 2,
      "outputs": [
        {
          "output_type": "stream",
          "name": "stdout",
          "text": [
            "Cloning into 'pubmed-rct'...\n",
            "remote: Enumerating objects: 33, done.\u001b[K\n",
            "remote: Counting objects: 100% (8/8), done.\u001b[K\n",
            "remote: Compressing objects: 100% (3/3), done.\u001b[K\n",
            "remote: Total 33 (delta 5), reused 5 (delta 5), pack-reused 25\u001b[K\n",
            "Unpacking objects: 100% (33/33), 177.08 MiB | 12.04 MiB/s, done.\n",
            "Updating files: 100% (13/13), done.\n",
            "PubMed_200k_RCT\n",
            "PubMed_200k_RCT_numbers_replaced_with_at_sign\n",
            "PubMed_20k_RCT\n",
            "PubMed_20k_RCT_numbers_replaced_with_at_sign\n",
            "README.md\n"
          ]
        }
      ]
    },
    {
      "cell_type": "code",
      "source": [
        "#Check what filer are in the PubMed 20k dataset\n",
        "!ls /content/pubmed-rct/PubMed_20k_RCT_numbers_replaced_with_at_sign/"
      ],
      "metadata": {
        "id": "R0P4oTPNNeAZ",
        "outputId": "9409ff18-0494-4e41-d2ce-5ace6b049eae",
        "colab": {
          "base_uri": "https://localhost:8080/"
        }
      },
      "execution_count": 3,
      "outputs": [
        {
          "output_type": "stream",
          "name": "stdout",
          "text": [
            "dev.txt  test.txt  train.txt\n"
          ]
        }
      ]
    },
    {
      "cell_type": "code",
      "source": [
        "#Start our experiments by exploring and experimenting on 20k dataset!\n",
        "data_dir=\"/content/pubmed-rct/PubMed_20k_RCT_numbers_replaced_with_at_sign\""
      ],
      "metadata": {
        "id": "N3cAwO1vN5rs"
      },
      "execution_count": 4,
      "outputs": []
    },
    {
      "cell_type": "code",
      "source": [
        "#Check all of the filename of its directory\n",
        "import os\n",
        "filenames=[data_dir+\"/\"+filename for filename in os.listdir(data_dir)]\n",
        "filenames"
      ],
      "metadata": {
        "id": "WbqcPkDbP0XM",
        "outputId": "f5b5dbd8-2569-4855-811e-1b3743b0f539",
        "colab": {
          "base_uri": "https://localhost:8080/"
        }
      },
      "execution_count": 5,
      "outputs": [
        {
          "output_type": "execute_result",
          "data": {
            "text/plain": [
              "['/content/pubmed-rct/PubMed_20k_RCT_numbers_replaced_with_at_sign/dev.txt',\n",
              " '/content/pubmed-rct/PubMed_20k_RCT_numbers_replaced_with_at_sign/train.txt',\n",
              " '/content/pubmed-rct/PubMed_20k_RCT_numbers_replaced_with_at_sign/test.txt']"
            ]
          },
          "metadata": {},
          "execution_count": 5
        }
      ]
    },
    {
      "cell_type": "markdown",
      "source": [
        "##Data Preprocessing\n",
        "\n",
        "Now we've got some text data, now we have to explore it throughly.\n",
        "\n",
        "To do that we need to visualise it first."
      ],
      "metadata": {
        "id": "LjNIWXwOQGc1"
      }
    },
    {
      "cell_type": "code",
      "source": [
        "#Reading the files with python\n",
        "\n",
        "def get_lines(filename):\n",
        "  \"\"\"\n",
        "  Reads the filename (a text filename) and returns all of the lines of the text file\n",
        "  as a list.\n",
        "\n",
        "  Args:\n",
        "  filname: a string containing the target filepath\n",
        "\n",
        "  Returns:\n",
        "  A list of string with one string per line from the input text line\n",
        "  \"\"\"\n",
        "  f=open(filename,\"r\")\n",
        "  return f.readlines()\n",
        "\n"
      ],
      "metadata": {
        "id": "8Kc-tUL-QeKl"
      },
      "execution_count": 6,
      "outputs": []
    },
    {
      "cell_type": "code",
      "source": [
        "# Let's read into the training lines\n",
        "train_dir=filenames[1]\n",
        "train_lines=get_lines(train_dir)\n",
        "train_lines[:20]"
      ],
      "metadata": {
        "id": "hoS-O84KTF5r",
        "outputId": "8f2be0df-b937-479d-ab36-8596b10e802e",
        "colab": {
          "base_uri": "https://localhost:8080/"
        }
      },
      "execution_count": 7,
      "outputs": [
        {
          "output_type": "execute_result",
          "data": {
            "text/plain": [
              "['###24293578\\n',\n",
              " 'OBJECTIVE\\tTo investigate the efficacy of @ weeks of daily low-dose oral prednisolone in improving pain , mobility , and systemic low-grade inflammation in the short term and whether the effect would be sustained at @ weeks in older adults with moderate to severe knee osteoarthritis ( OA ) .\\n',\n",
              " 'METHODS\\tA total of @ patients with primary knee OA were randomized @:@ ; @ received @ mg/day of prednisolone and @ received placebo for @ weeks .\\n',\n",
              " 'METHODS\\tOutcome measures included pain reduction and improvement in function scores and systemic inflammation markers .\\n',\n",
              " 'METHODS\\tPain was assessed using the visual analog pain scale ( @-@ mm ) .\\n',\n",
              " 'METHODS\\tSecondary outcome measures included the Western Ontario and McMaster Universities Osteoarthritis Index scores , patient global assessment ( PGA ) of the severity of knee OA , and @-min walk distance ( @MWD ) .\\n',\n",
              " 'METHODS\\tSerum levels of interleukin @ ( IL-@ ) , IL-@ , tumor necrosis factor ( TNF ) - , and high-sensitivity C-reactive protein ( hsCRP ) were measured .\\n',\n",
              " 'RESULTS\\tThere was a clinically relevant reduction in the intervention group compared to the placebo group for knee pain , physical function , PGA , and @MWD at @ weeks .\\n',\n",
              " 'RESULTS\\tThe mean difference between treatment arms ( @ % CI ) was @ ( @-@ @ ) , p < @ ; @ ( @-@ @ ) , p < @ ; @ ( @-@ @ ) , p < @ ; and @ ( @-@ @ ) , p < @ , respectively .\\n',\n",
              " 'RESULTS\\tFurther , there was a clinically relevant reduction in the serum levels of IL-@ , IL-@ , TNF - , and hsCRP at @ weeks in the intervention group when compared to the placebo group .\\n',\n",
              " 'RESULTS\\tThese differences remained significant at @ weeks .\\n',\n",
              " 'RESULTS\\tThe Outcome Measures in Rheumatology Clinical Trials-Osteoarthritis Research Society International responder rate was @ % in the intervention group and @ % in the placebo group ( p < @ ) .\\n',\n",
              " 'CONCLUSIONS\\tLow-dose oral prednisolone had both a short-term and a longer sustained effect resulting in less knee pain , better physical function , and attenuation of systemic inflammation in older patients with knee OA ( ClinicalTrials.gov identifier NCT@ ) .\\n',\n",
              " '\\n',\n",
              " '###24854809\\n',\n",
              " 'BACKGROUND\\tEmotional eating is associated with overeating and the development of obesity .\\n',\n",
              " 'BACKGROUND\\tYet , empirical evidence for individual ( trait ) differences in emotional eating and cognitive mechanisms that contribute to eating during sad mood remain equivocal .\\n',\n",
              " 'OBJECTIVE\\tThe aim of this study was to test if attention bias for food moderates the effect of self-reported emotional eating during sad mood ( vs neutral mood ) on actual food intake .\\n',\n",
              " 'OBJECTIVE\\tIt was expected that emotional eating is predictive of elevated attention for food and higher food intake after an experimentally induced sad mood and that attentional maintenance on food predicts food intake during a sad versus a neutral mood .\\n',\n",
              " 'METHODS\\tParticipants ( N = @ ) were randomly assigned to one of the two experimental mood induction conditions ( sad/neutral ) .\\n']"
            ]
          },
          "metadata": {},
          "execution_count": 7
        }
      ]
    },
    {
      "cell_type": "code",
      "source": [],
      "metadata": {
        "id": "smYi1DACXQlz"
      },
      "execution_count": null,
      "outputs": []
    },
    {
      "cell_type": "code",
      "source": [
        "len(train_lines)"
      ],
      "metadata": {
        "id": "Gdn2ldMiUBvm",
        "outputId": "1b458154-0a16-4cb1-ae2b-9ec618273079",
        "colab": {
          "base_uri": "https://localhost:8080/"
        }
      },
      "execution_count": 8,
      "outputs": [
        {
          "output_type": "execute_result",
          "data": {
            "text/plain": [
              "210040"
            ]
          },
          "metadata": {},
          "execution_count": 8
        }
      ]
    },
    {
      "cell_type": "markdown",
      "source": [
        "###Data Structuring\n",
        "\n",
        "Representing this data into dictionaries as it is easily manipulated.\n",
        "\n",
        "A sample structure would look like:\n",
        "\n",
        "```[{'line_number' : 0,\n",
        "   'target' : 'BACKGROUND',\n",
        "   'text' : 'Emotional eating is associated with overeating and the development of obesity .\\n',\n",
        "   'total_lines' : 11, \n",
        "   ...\n",
        "   }]```"
      ],
      "metadata": {
        "id": "toyERzUDUDuq"
      }
    },
    {
      "cell_type": "code",
      "source": [
        "def preprocess_text_with_line_num(filename):\n",
        "  types=[\"BACKGROUND\", \"OBJECTIVE\", \"METHODS\", \"RESULTS\", \"CONCLUSION\"]\n",
        "  list1=[]\n",
        "  txtData=get_lines(filename)\n",
        "  linecount=0\n",
        "  for txt in txtData:\n",
        "   \n",
        "    if txt.startswith(\"###\"):\n",
        "        linecount=0\n",
        "        start_index=txtData.index(txt)\n",
        "        end_index=txtData.index(\"\\n\",start_index)\n",
        "        total_lines=end_index-start_index\n",
        "        # dict.update()\n",
        "    \n",
        "    elif txt.isspace():\n",
        "\n",
        "      continue\n",
        "\n",
        "    else:\n",
        "\n",
        "      # for typ in types:\n",
        "      #   if typ in txt:\n",
        "      #     target=typ\n",
        "      target=\"abc\"\n",
        "\n",
        "\n",
        "      start=txt.find(\"\\t\")\n",
        "      end=txt.find(\".\\n\")\n",
        "      text=txt[start+1:end+1]\n",
        "            \n",
        "      \n",
        "      data={}\n",
        "      data[\"line_number\"]=linecount\n",
        "      data[\"target\"]=target\n",
        "      data[\"text\"]=text\n",
        "      data[\"total_line\"]=total_lines\n",
        "      # print(target.dtype)\n",
        "      list1.append(data)\n",
        "      linecount+=1\n",
        "      # print(f\"[line_number:{linecount},\\ntarget:{target},\\ntext:{text},\\ntotal_line:{total_lines}]\\n\\n\")\n",
        "  return list1\n",
        "  \n",
        "\n",
        "\n",
        "\n",
        "\n",
        "  \n",
        "    \n",
        "    "
      ],
      "metadata": {
        "id": "rBa4bjjeVrtY"
      },
      "execution_count": 48,
      "outputs": []
    },
    {
      "cell_type": "code",
      "source": [
        "filenames"
      ],
      "metadata": {
        "id": "ICXwl3JBXkYm",
        "outputId": "2b59bb54-42db-464a-9d84-eeaf5afc316e",
        "colab": {
          "base_uri": "https://localhost:8080/"
        }
      },
      "execution_count": 49,
      "outputs": [
        {
          "output_type": "execute_result",
          "data": {
            "text/plain": [
              "['/content/pubmed-rct/PubMed_20k_RCT_numbers_replaced_with_at_sign/dev.txt',\n",
              " '/content/pubmed-rct/PubMed_20k_RCT_numbers_replaced_with_at_sign/train.txt',\n",
              " '/content/pubmed-rct/PubMed_20k_RCT_numbers_replaced_with_at_sign/test.txt']"
            ]
          },
          "metadata": {},
          "execution_count": 49
        }
      ]
    },
    {
      "cell_type": "code",
      "source": [
        "%%time\n",
        "train_samples=preprocess_text_with_line_num(filenames[1])\n",
        "val_samples=preprocess_text_with_line_num(filenames[0])\n",
        "text_samples=preprocess_text_with_line_num(filenames[2])\n"
      ],
      "metadata": {
        "id": "D8DQjZcbd8Oy",
        "outputId": "ebf1b75b-7617-4d31-9704-fce9b58f923e",
        "colab": {
          "base_uri": "https://localhost:8080/"
        }
      },
      "execution_count": 50,
      "outputs": [
        {
          "output_type": "stream",
          "name": "stdout",
          "text": [
            "CPU times: user 44.6 s, sys: 146 ms, total: 44.7 s\n",
            "Wall time: 45.1 s\n"
          ]
        }
      ]
    },
    {
      "cell_type": "code",
      "source": [
        "str1=\"###35279E\"\n",
        "x=\"###\" in str1\n",
        "x"
      ],
      "metadata": {
        "id": "pS-m8fQDUhoF",
        "outputId": "7f3e5018-4f02-4754-db47-9acc3a14cef9",
        "colab": {
          "base_uri": "https://localhost:8080/"
        }
      },
      "execution_count": null,
      "outputs": [
        {
          "output_type": "execute_result",
          "data": {
            "text/plain": [
              "True"
            ]
          },
          "metadata": {},
          "execution_count": 11
        }
      ]
    },
    {
      "cell_type": "code",
      "source": [
        "l1=[\"BAKCGROUND\",\"obj\\n\",\"\\n\"]\n",
        "str2=\"BAKCGROUND \\n ribdiuabda oddnaoid.\\n\"\n",
        "for i in l1:\n",
        "  print(i)\n",
        "  if i in str2:\n",
        "    x=i\n",
        "s=str2.find(\"KC\")\n",
        "x,s"
      ],
      "metadata": {
        "id": "Vg8hF3R1XOzn",
        "outputId": "61f7a539-fccc-4ed4-f185-29282082312a",
        "colab": {
          "base_uri": "https://localhost:8080/"
        }
      },
      "execution_count": null,
      "outputs": [
        {
          "output_type": "stream",
          "name": "stdout",
          "text": [
            "BAKCGROUND\n",
            "obj\n",
            "\n",
            "\n",
            "\n"
          ]
        },
        {
          "output_type": "execute_result",
          "data": {
            "text/plain": [
              "('\\n', 2)"
            ]
          },
          "metadata": {},
          "execution_count": 12
        }
      ]
    },
    {
      "cell_type": "code",
      "source": [
        "str2[0:2]"
      ],
      "metadata": {
        "id": "5qxYez7EZWlp",
        "outputId": "8c6364ec-6282-4a25-da8c-00ec444c8e34",
        "colab": {
          "base_uri": "https://localhost:8080/",
          "height": 36
        }
      },
      "execution_count": null,
      "outputs": [
        {
          "output_type": "execute_result",
          "data": {
            "text/plain": [
              "'BA'"
            ],
            "application/vnd.google.colaboratory.intrinsic+json": {
              "type": "string"
            }
          },
          "metadata": {},
          "execution_count": 13
        }
      ]
    },
    {
      "cell_type": "code",
      "source": [
        "l1.index(\"\\n\")"
      ],
      "metadata": {
        "id": "Btk4aqJDbNQZ",
        "outputId": "b45fb56e-47a6-451c-febf-1da7a1c9eb35",
        "colab": {
          "base_uri": "https://localhost:8080/"
        }
      },
      "execution_count": null,
      "outputs": [
        {
          "output_type": "execute_result",
          "data": {
            "text/plain": [
              "2"
            ]
          },
          "metadata": {},
          "execution_count": 14
        }
      ]
    },
    {
      "cell_type": "code",
      "source": [
        "td=\"\"\"Recreate the above func of greater efficiency \"\"\""
      ],
      "metadata": {
        "id": "Szwf-AEZbxc1"
      },
      "execution_count": null,
      "outputs": []
    }
  ],
  "metadata": {
    "kernelspec": {
      "display_name": "Python 3",
      "name": "python3"
    },
    "language_info": {
      "codemirror_mode": {
        "name": "ipython",
        "version": 3
      },
      "file_extension": ".py",
      "mimetype": "text/x-python",
      "name": "python",
      "nbconvert_exporter": "python",
      "pygments_lexer": "ipython3",
      "version": "3.10.4"
    },
    "orig_nbformat": 4,
    "colab": {
      "provenance": [],
      "gpuType": "T4",
      "include_colab_link": true
    }
  },
  "nbformat": 4,
  "nbformat_minor": 0
}