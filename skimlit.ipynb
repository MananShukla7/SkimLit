{
  "cells": [
    {
      "cell_type": "markdown",
      "metadata": {
        "id": "view-in-github",
        "colab_type": "text"
      },
      "source": [
        "<a href=\"https://colab.research.google.com/github/MananShukla7/SkimLit/blob/main/skimlit.ipynb\" target=\"_parent\"><img src=\"https://colab.research.google.com/assets/colab-badge.svg\" alt=\"Open In Colab\"/></a>"
      ]
    },
    {
      "cell_type": "markdown",
      "source": [
        "#Project : SkimLit📝🔥\n",
        "\n",
        "`Short for Skimming Literature`\n",
        "\n",
        "The purpose of this notebook is to build a NLP model to make reading medical abstracts\n",
        "a lot easier\n",
        "\n",
        "The Dataset that we are using is PubMed 200k RCT and the paper we are replicating is :\n",
        "https://arxiv.org/abs/1710.06071\n",
        "\n"
      ],
      "metadata": {
        "id": "f5Wtz0v3JfiU"
      }
    },
    {
      "cell_type": "markdown",
      "source": [
        "##Confirming access to GPU"
      ],
      "metadata": {
        "id": "f3OkofP3JhS4"
      }
    },
    {
      "cell_type": "code",
      "source": [
        "!nvidia-smi"
      ],
      "metadata": {
        "id": "nt2jg2siMAn0",
        "outputId": "b436467c-98cf-4716-c843-32666246f5ba",
        "colab": {
          "base_uri": "https://localhost:8080/"
        }
      },
      "execution_count": 1,
      "outputs": [
        {
          "output_type": "stream",
          "name": "stdout",
          "text": [
            "Tue Jun  6 17:52:34 2023       \n",
            "+-----------------------------------------------------------------------------+\n",
            "| NVIDIA-SMI 525.85.12    Driver Version: 525.85.12    CUDA Version: 12.0     |\n",
            "|-------------------------------+----------------------+----------------------+\n",
            "| GPU  Name        Persistence-M| Bus-Id        Disp.A | Volatile Uncorr. ECC |\n",
            "| Fan  Temp  Perf  Pwr:Usage/Cap|         Memory-Usage | GPU-Util  Compute M. |\n",
            "|                               |                      |               MIG M. |\n",
            "|===============================+======================+======================|\n",
            "|   0  Tesla T4            Off  | 00000000:00:04.0 Off |                    0 |\n",
            "| N/A   38C    P8     9W /  70W |      0MiB / 15360MiB |      0%      Default |\n",
            "|                               |                      |                  N/A |\n",
            "+-------------------------------+----------------------+----------------------+\n",
            "                                                                               \n",
            "+-----------------------------------------------------------------------------+\n",
            "| Processes:                                                                  |\n",
            "|  GPU   GI   CI        PID   Type   Process name                  GPU Memory |\n",
            "|        ID   ID                                                   Usage      |\n",
            "|=============================================================================|\n",
            "|  No running processes found                                                 |\n",
            "+-----------------------------------------------------------------------------+\n"
          ]
        }
      ]
    },
    {
      "cell_type": "markdown",
      "source": [
        "##Getting Data\n",
        "\n",
        "Downloading the dataset from the paper's author: https://github.com/Franck-Dernoncourt/pubmed-rct"
      ],
      "metadata": {
        "id": "zx1_tz6dMCtY"
      }
    },
    {
      "cell_type": "code",
      "source": [
        "!git clone https://github.com/Franck-Dernoncourt/pubmed-rct\n",
        "!ls pubmed-rct"
      ],
      "metadata": {
        "id": "nwuTSmjkNPes",
        "outputId": "a9e4a561-4325-4823-e324-d1339ed091dc",
        "colab": {
          "base_uri": "https://localhost:8080/"
        }
      },
      "execution_count": 2,
      "outputs": [
        {
          "output_type": "stream",
          "name": "stdout",
          "text": [
            "Cloning into 'pubmed-rct'...\n",
            "remote: Enumerating objects: 33, done.\u001b[K\n",
            "remote: Counting objects: 100% (8/8), done.\u001b[K\n",
            "remote: Compressing objects: 100% (3/3), done.\u001b[K\n",
            "remote: Total 33 (delta 5), reused 5 (delta 5), pack-reused 25\u001b[K\n",
            "Unpacking objects: 100% (33/33), 177.08 MiB | 10.41 MiB/s, done.\n",
            "Updating files: 100% (13/13), done.\n",
            "PubMed_200k_RCT\n",
            "PubMed_200k_RCT_numbers_replaced_with_at_sign\n",
            "PubMed_20k_RCT\n",
            "PubMed_20k_RCT_numbers_replaced_with_at_sign\n",
            "README.md\n"
          ]
        }
      ]
    },
    {
      "cell_type": "code",
      "source": [
        "#Check what filer are in the PubMed 20k dataset\n",
        "!ls /content/pubmed-rct/PubMed_20k_RCT_numbers_replaced_with_at_sign/"
      ],
      "metadata": {
        "id": "R0P4oTPNNeAZ",
        "outputId": "0fd7f731-fb17-4472-adeb-1634fa7a7755",
        "colab": {
          "base_uri": "https://localhost:8080/"
        }
      },
      "execution_count": 3,
      "outputs": [
        {
          "output_type": "stream",
          "name": "stdout",
          "text": [
            "dev.txt  test.txt  train.txt\n"
          ]
        }
      ]
    },
    {
      "cell_type": "code",
      "source": [
        "#Start our experiments by exploring and experimenting on 20k dataset!\n",
        "data_dir=\"/content/pubmed-rct/PubMed_20k_RCT_numbers_replaced_with_at_sign\""
      ],
      "metadata": {
        "id": "N3cAwO1vN5rs"
      },
      "execution_count": 4,
      "outputs": []
    },
    {
      "cell_type": "code",
      "source": [
        "#Check all of the filename of its directory\n",
        "import os\n",
        "filenames=[data_dir+\"/\"+filename for filename in os.listdir(data_dir)]\n",
        "filenames"
      ],
      "metadata": {
        "id": "WbqcPkDbP0XM",
        "outputId": "f0c5f4c7-43a8-49f7-a2f5-f43fed4b3884",
        "colab": {
          "base_uri": "https://localhost:8080/"
        }
      },
      "execution_count": 5,
      "outputs": [
        {
          "output_type": "execute_result",
          "data": {
            "text/plain": [
              "['/content/pubmed-rct/PubMed_20k_RCT_numbers_replaced_with_at_sign/train.txt',\n",
              " '/content/pubmed-rct/PubMed_20k_RCT_numbers_replaced_with_at_sign/dev.txt',\n",
              " '/content/pubmed-rct/PubMed_20k_RCT_numbers_replaced_with_at_sign/test.txt']"
            ]
          },
          "metadata": {},
          "execution_count": 5
        }
      ]
    },
    {
      "cell_type": "markdown",
      "source": [
        "##Data Preprocessing\n",
        "\n",
        "Now we've got some text data, now we have to explore it throughly.\n",
        "\n",
        "To do that we need to visualise it first."
      ],
      "metadata": {
        "id": "LjNIWXwOQGc1"
      }
    },
    {
      "cell_type": "code",
      "source": [
        "#Reading the files with python\n",
        "\n",
        "def get_lines(filename):\n",
        "  \"\"\"\n",
        "  Reads the filename (a text filename) and returns all of the lines of the text file\n",
        "  as a list.\n",
        "\n",
        "  Args:\n",
        "  filname: a string containing the target filepath\n",
        "\n",
        "  Returns:\n",
        "  A list of string with one string per line from the input text line\n",
        "  \"\"\"\n",
        "  f=open(filename,\"r\")\n",
        "  return f.readlines()\n",
        "\n"
      ],
      "metadata": {
        "id": "8Kc-tUL-QeKl"
      },
      "execution_count": 6,
      "outputs": []
    },
    {
      "cell_type": "code",
      "source": [
        "# Let's read into the training lines\n",
        "train_dir=filenames[1]\n",
        "train_lines=get_lines(train_dir)\n",
        "train_lines[:20]"
      ],
      "metadata": {
        "id": "hoS-O84KTF5r",
        "outputId": "2dc6da42-1b5d-4e40-9ba1-c612c0ee00ea",
        "colab": {
          "base_uri": "https://localhost:8080/"
        }
      },
      "execution_count": 7,
      "outputs": [
        {
          "output_type": "execute_result",
          "data": {
            "text/plain": [
              "['###24290286\\n',\n",
              " 'BACKGROUND\\tIgE sensitization to Aspergillus fumigatus and a positive sputum fungal culture result are common in patients with refractory asthma .\\n',\n",
              " 'BACKGROUND\\tIt is not clear whether these patients would benefit from antifungal treatment .\\n',\n",
              " 'OBJECTIVE\\tWe sought to determine whether a @-month course of voriconazole improved asthma-related outcomes in patients with asthma who are IgE sensitized to A fumigatus .\\n',\n",
              " 'METHODS\\tAsthmatic patients who were IgE sensitized to A fumigatus with a history of at least @ severe exacerbations in the previous @ months were treated for @ months with @ mg of voriconazole twice daily , followed by observation for @ months , in a double-blind , placebo-controlled , randomized design .\\n',\n",
              " 'METHODS\\tPrimary outcomes were improvement in quality of life at the end of the treatment period and a reduction in the number of severe exacerbations over the @ months of the study .\\n',\n",
              " 'RESULTS\\tSixty-five patients were randomized .\\n',\n",
              " 'RESULTS\\tFifty-nine patients started treatment ( @ receiving voriconazole and @ receiving placebo ) and were included in an intention-to-treat analysis .\\n',\n",
              " 'RESULTS\\tFifty-six patients took the full @ months of medication .\\n',\n",
              " 'RESULTS\\tBetween the voriconazole and placebo groups , there were no significant differences in the number of severe exacerbations ( @ vs @ per patient per year , respectively ; mean difference , @ ; @ % CI , @-@ @ ) , quality of life ( change in Asthma Quality of Life Questionnaire score , @ vs @ ; mean difference between groups , @ ; @ % CI , -@ to -@ ) , or any of our secondary outcome measures .\\n',\n",
              " 'CONCLUSIONS\\tWe were unable to show a beneficial effect of @ months of treatment with voriconazole in patients with moderate-to-severe asthma who were IgE sensitized to A fumigatus on either the rate of severe exacerbations , quality of life , or other markers of asthma control .\\n',\n",
              " '\\n',\n",
              " '###24464531\\n',\n",
              " 'BACKGROUND\\tOpioid antagonists ( e.g. , naltrexone ) and positive modulators of - aminobutyric-acidA ( GABAA ) receptors ( e.g. , alprazolam ) modestly attenuate the abuse-related effects of stimulants like amphetamine .\\n',\n",
              " 'BACKGROUND\\tThe use of higher doses to achieve greater efficacy is precluded by side effects .\\n',\n",
              " 'BACKGROUND\\tCombining naltrexone and alprazolam might safely maximize efficacy while avoiding the untoward effects of the constituent compounds .\\n',\n",
              " 'OBJECTIVE\\tThe present pilot study tested the hypothesis that acute pretreatment with the combination of naltrexone and alprazolam would not produce clinically problematic physiological effects or negative subjective effects and would reduce the positive subjective effects of d-amphetamine to a greater extent than the constituent drugs alone .\\n',\n",
              " 'METHODS\\tEight nontreatment-seeking , stimulant-using individuals completed an outpatient experiment in which oral d-amphetamine ( @ , @ , and @ mg ) was administered following acute pretreatment with naltrexone ( @ and @ mg ) and alprazolam ( @ and @ mg ) .\\n',\n",
              " 'METHODS\\tSubjective effects , psychomotor task performance , and physiological measures were collected .\\n',\n",
              " 'RESULTS\\tOral d-amphetamine produced prototypical physiological and stimulant-like positive subjective effects ( e.g. , VAS ratings of Active/Alert/Energetic , Good Effect , and High ) .\\n']"
            ]
          },
          "metadata": {},
          "execution_count": 7
        }
      ]
    },
    {
      "cell_type": "code",
      "source": [],
      "metadata": {
        "id": "smYi1DACXQlz"
      },
      "execution_count": 7,
      "outputs": []
    },
    {
      "cell_type": "code",
      "source": [
        "len(train_lines)"
      ],
      "metadata": {
        "id": "Gdn2ldMiUBvm",
        "outputId": "e9ce8dd5-6ea3-45f2-9d9c-a1d3224dadf4",
        "colab": {
          "base_uri": "https://localhost:8080/"
        }
      },
      "execution_count": 8,
      "outputs": [
        {
          "output_type": "execute_result",
          "data": {
            "text/plain": [
              "35212"
            ]
          },
          "metadata": {},
          "execution_count": 8
        }
      ]
    },
    {
      "cell_type": "markdown",
      "source": [
        "###Data Structuring\n",
        "\n",
        "Representing this data into dictionaries as it is easily manipulated.\n",
        "\n",
        "A sample structure would look like:\n",
        "\n",
        "```[{'line_number' : 0,\n",
        "   'target' : 'BACKGROUND',\n",
        "   'text' : 'Emotional eating is associated with overeating and the development of obesity .\\n',\n",
        "   'total_lines' : 11, \n",
        "   ...\n",
        "   }]```"
      ],
      "metadata": {
        "id": "toyERzUDUDuq"
      }
    },
    {
      "cell_type": "code",
      "source": [
        "# def preprocess_text_with_line_num(filename):\n",
        "#   types=[\"BACKGROUND\", \"OBJECTIVE\", \"METHODS\", \"RESULTS\", \"CONCLUSION\"]\n",
        "#   list1=[]\n",
        "#   txtData=get_lines(filename)\n",
        "#   linecount=0\n",
        "#   for txt in txtData:\n",
        "   \n",
        "#     if txt.startswith(\"###\"):\n",
        "#         linecount=0\n",
        "#         start_index=txtData.index(txt)\n",
        "#         end_index=txtData.index(\"\\n\",start_index)\n",
        "#         total_lines=end_index-start_index\n",
        "#         # dict.update()\n",
        "    \n",
        "#     elif txt.isspace():\n",
        "\n",
        "#       continue\n",
        "\n",
        "#     else:\n",
        "\n",
        "#       # for typ in types:\n",
        "#       #   if typ in txt:\n",
        "#       #     target=typ\n",
        "#       target=\"abc\"\n",
        "\n",
        "\n",
        "#       start=txt.find(\"\\t\")\n",
        "#       end=txt.find(\".\\n\")\n",
        "#       text=txt[start+1:end+1]\n",
        "            \n",
        "      \n",
        "#       data={}\n",
        "#       data[\"line_number\"]=linecount\n",
        "#       data[\"target\"]=target\n",
        "#       data[\"text\"]=text\n",
        "#       data[\"total_line\"]=total_lines\n",
        "#       # print(target.dtype)\n",
        "#       list1.append(data)\n",
        "#       linecount+=1\n",
        "#       # print(f\"[line_number:{linecount},\\ntarget:{target},\\ntext:{text},\\ntotal_line:{total_lines}]\\n\\n\")\n",
        "#   return list1\n",
        "  \n",
        "\n",
        "\n",
        "\n",
        "\n",
        "  \n",
        "    \n",
        "    "
      ],
      "metadata": {
        "id": "rBa4bjjeVrtY"
      },
      "execution_count": 9,
      "outputs": []
    },
    {
      "cell_type": "code",
      "source": [
        "def preprocess_text_with_line_numbers(filename):\n",
        "  \"\"\"Returns a list of dictionaries of abstract line data.\n",
        "\n",
        "  Takes in filename, reads its contents and sorts through each line,\n",
        "  extracting things like the target label, the text of the sentence,\n",
        "  how many sentences are in the current abstract and what sentence number\n",
        "  the target line is.\n",
        "\n",
        "  Args:\n",
        "      filename: a string of the target text file to read and extract line data\n",
        "      from.\n",
        "\n",
        "  Returns:\n",
        "      A list of dictionaries each containing a line from an abstract,\n",
        "      the lines label, the lines position in the abstract and the total number\n",
        "      of lines in the abstract where the line is from. For example:\n",
        "\n",
        "      [{\"target\": 'CONCLUSION',\n",
        "        \"text\": The study couldn't have gone better, turns out people are kinder than you think\",\n",
        "        \"line_number\": 8,\n",
        "        \"total_lines\": 8}]\n",
        "  \"\"\"\n",
        "  input_lines = get_lines(filename) # get all lines from filename\n",
        "  abstract_lines = \"\" # create an empty abstract\n",
        "  abstract_samples = [] # create an empty list of abstracts\n",
        "  \n",
        "  # Loop through each line in target file\n",
        "  for line in input_lines:\n",
        "    if line.startswith(\"###\"): # check to see if line is an ID line\n",
        "      abstract_id = line\n",
        "      abstract_lines = \"\" # reset abstract string\n",
        "    elif line.isspace(): # check to see if line is a new line\n",
        "      abstract_line_split = abstract_lines.splitlines() # split abstract into separate lines\n",
        "\n",
        "      # Iterate through each line in abstract and count them at the same time\n",
        "      for abstract_line_number, abstract_line in enumerate(abstract_line_split):\n",
        "        line_data = {} # create empty dict to store data from line\n",
        "        target_text_split = abstract_line.split(\"\\t\") # split target label from text\n",
        "        line_data[\"target\"] = target_text_split[0] # get target label\n",
        "        line_data[\"text\"] = target_text_split[1].lower() # get target text and lower it\n",
        "        line_data[\"line_number\"] = abstract_line_number # what number line does the line appear in the abstract?\n",
        "        line_data[\"total_lines\"] = len(abstract_line_split) - 1 # how many total lines are in the abstract? (start from 0)\n",
        "        abstract_samples.append(line_data) # add line data to abstract samples list\n",
        "    \n",
        "    else: # if the above conditions aren't fulfilled, the line contains a labelled sentence\n",
        "      abstract_lines += line\n",
        "  \n",
        "  return abstract_samples"
      ],
      "metadata": {
        "id": "icTKGnQHzudZ"
      },
      "execution_count": 10,
      "outputs": []
    },
    {
      "cell_type": "code",
      "source": [
        "filenames"
      ],
      "metadata": {
        "id": "ICXwl3JBXkYm",
        "outputId": "aa621e7f-ba38-41a1-dd64-c250419d32f3",
        "colab": {
          "base_uri": "https://localhost:8080/"
        }
      },
      "execution_count": 11,
      "outputs": [
        {
          "output_type": "execute_result",
          "data": {
            "text/plain": [
              "['/content/pubmed-rct/PubMed_20k_RCT_numbers_replaced_with_at_sign/train.txt',\n",
              " '/content/pubmed-rct/PubMed_20k_RCT_numbers_replaced_with_at_sign/dev.txt',\n",
              " '/content/pubmed-rct/PubMed_20k_RCT_numbers_replaced_with_at_sign/test.txt']"
            ]
          },
          "metadata": {},
          "execution_count": 11
        }
      ]
    },
    {
      "cell_type": "code",
      "source": [
        "%%time\n",
        "train_samples=preprocess_text_with_line_numbers(filenames[1])\n",
        "val_samples=preprocess_text_with_line_numbers(filenames[0])\n",
        "test_samples=preprocess_text_with_line_numbers(filenames[2])\n"
      ],
      "metadata": {
        "id": "D8DQjZcbd8Oy",
        "outputId": "3c4e8b2d-ad8f-4e97-fb2d-8c9c4cd624f0",
        "colab": {
          "base_uri": "https://localhost:8080/"
        }
      },
      "execution_count": 12,
      "outputs": [
        {
          "output_type": "stream",
          "name": "stdout",
          "text": [
            "CPU times: user 562 ms, sys: 83.8 ms, total: 645 ms\n",
            "Wall time: 769 ms\n"
          ]
        }
      ]
    },
    {
      "cell_type": "code",
      "source": [
        "str1=\"###35279E\"\n",
        "x=\"###\" in str1\n",
        "x"
      ],
      "metadata": {
        "id": "pS-m8fQDUhoF",
        "outputId": "e24b856d-7412-4706-c714-bd2084dfd6b2",
        "colab": {
          "base_uri": "https://localhost:8080/"
        }
      },
      "execution_count": 13,
      "outputs": [
        {
          "output_type": "execute_result",
          "data": {
            "text/plain": [
              "True"
            ]
          },
          "metadata": {},
          "execution_count": 13
        }
      ]
    },
    {
      "cell_type": "code",
      "source": [
        "l1=[\"BAKCGROUND\",\"obj\\n\",\"\\n\"]\n",
        "str2=\"BAKCGROUND \\n ribdiuabda oddnaoid.\\n\"\n",
        "for i in l1:\n",
        "  print(i)\n",
        "  if i in str2:\n",
        "    x=i\n",
        "s=str2.find(\"KC\")\n",
        "x,s"
      ],
      "metadata": {
        "id": "Vg8hF3R1XOzn",
        "outputId": "065fc0f5-3762-4dde-88dd-054c5e7f26bf",
        "colab": {
          "base_uri": "https://localhost:8080/"
        }
      },
      "execution_count": 14,
      "outputs": [
        {
          "output_type": "stream",
          "name": "stdout",
          "text": [
            "BAKCGROUND\n",
            "obj\n",
            "\n",
            "\n",
            "\n"
          ]
        },
        {
          "output_type": "execute_result",
          "data": {
            "text/plain": [
              "('\\n', 2)"
            ]
          },
          "metadata": {},
          "execution_count": 14
        }
      ]
    },
    {
      "cell_type": "code",
      "source": [
        "str2[0:2]"
      ],
      "metadata": {
        "id": "5qxYez7EZWlp",
        "outputId": "9217f9bc-cafb-43c4-ba7e-77e95ab34997",
        "colab": {
          "base_uri": "https://localhost:8080/",
          "height": 36
        }
      },
      "execution_count": 15,
      "outputs": [
        {
          "output_type": "execute_result",
          "data": {
            "text/plain": [
              "'BA'"
            ],
            "application/vnd.google.colaboratory.intrinsic+json": {
              "type": "string"
            }
          },
          "metadata": {},
          "execution_count": 15
        }
      ]
    },
    {
      "cell_type": "code",
      "source": [
        "l1.index(\"\\n\")"
      ],
      "metadata": {
        "id": "Btk4aqJDbNQZ",
        "outputId": "bb8b4006-ff37-4f00-b201-4fef8d3a379e",
        "colab": {
          "base_uri": "https://localhost:8080/"
        }
      },
      "execution_count": 16,
      "outputs": [
        {
          "output_type": "execute_result",
          "data": {
            "text/plain": [
              "2"
            ]
          },
          "metadata": {},
          "execution_count": 16
        }
      ]
    },
    {
      "cell_type": "code",
      "source": [
        "td=\"\"\"Recreate the above func of greater efficiency \"\"\""
      ],
      "metadata": {
        "id": "Szwf-AEZbxc1"
      },
      "execution_count": 17,
      "outputs": []
    },
    {
      "cell_type": "markdown",
      "source": [
        "##Data Analysis\n",
        "Now that our data is in the format of dictionaries ,we can turn it into the df to\n",
        "visualize it much better"
      ],
      "metadata": {
        "id": "J-gN7ziSxxJY"
      }
    },
    {
      "cell_type": "code",
      "source": [
        "import pandas as pd\n",
        "train_df=pd.DataFrame(train_samples)\n",
        "val_df=pd.DataFrame(val_samples)\n",
        "test_df=pd.DataFrame(test_samples)\n",
        "train_df.head(14)"
      ],
      "metadata": {
        "id": "Vt4EaLr_yGXn",
        "outputId": "3797ced8-5c3b-433e-b3c9-dd17fc709734",
        "colab": {
          "base_uri": "https://localhost:8080/",
          "height": 688
        }
      },
      "execution_count": 18,
      "outputs": [
        {
          "output_type": "execute_result",
          "data": {
            "text/plain": [
              "         target                                               text  \\\n",
              "0    BACKGROUND  ige sensitization to aspergillus fumigatus and...   \n",
              "1    BACKGROUND  it is not clear whether these patients would b...   \n",
              "2     OBJECTIVE  we sought to determine whether a @-month cours...   \n",
              "3       METHODS  asthmatic patients who were ige sensitized to ...   \n",
              "4       METHODS  primary outcomes were improvement in quality o...   \n",
              "5       RESULTS              sixty-five patients were randomized .   \n",
              "6       RESULTS  fifty-nine patients started treatment ( @ rece...   \n",
              "7       RESULTS  fifty-six patients took the full @ months of m...   \n",
              "8       RESULTS  between the voriconazole and placebo groups , ...   \n",
              "9   CONCLUSIONS  we were unable to show a beneficial effect of ...   \n",
              "10   BACKGROUND  opioid antagonists ( e.g. , naltrexone ) and p...   \n",
              "11   BACKGROUND  the use of higher doses to achieve greater eff...   \n",
              "12   BACKGROUND  combining naltrexone and alprazolam might safe...   \n",
              "13    OBJECTIVE  the present pilot study tested the hypothesis ...   \n",
              "\n",
              "    line_number  total_lines  \n",
              "0             0            9  \n",
              "1             1            9  \n",
              "2             2            9  \n",
              "3             3            9  \n",
              "4             4            9  \n",
              "5             5            9  \n",
              "6             6            9  \n",
              "7             7            9  \n",
              "8             8            9  \n",
              "9             9            9  \n",
              "10            0           10  \n",
              "11            1           10  \n",
              "12            2           10  \n",
              "13            3           10  "
            ],
            "text/html": [
              "\n",
              "  <div id=\"df-05604d53-8176-4b9a-837f-7f13aadce7e7\">\n",
              "    <div class=\"colab-df-container\">\n",
              "      <div>\n",
              "<style scoped>\n",
              "    .dataframe tbody tr th:only-of-type {\n",
              "        vertical-align: middle;\n",
              "    }\n",
              "\n",
              "    .dataframe tbody tr th {\n",
              "        vertical-align: top;\n",
              "    }\n",
              "\n",
              "    .dataframe thead th {\n",
              "        text-align: right;\n",
              "    }\n",
              "</style>\n",
              "<table border=\"1\" class=\"dataframe\">\n",
              "  <thead>\n",
              "    <tr style=\"text-align: right;\">\n",
              "      <th></th>\n",
              "      <th>target</th>\n",
              "      <th>text</th>\n",
              "      <th>line_number</th>\n",
              "      <th>total_lines</th>\n",
              "    </tr>\n",
              "  </thead>\n",
              "  <tbody>\n",
              "    <tr>\n",
              "      <th>0</th>\n",
              "      <td>BACKGROUND</td>\n",
              "      <td>ige sensitization to aspergillus fumigatus and...</td>\n",
              "      <td>0</td>\n",
              "      <td>9</td>\n",
              "    </tr>\n",
              "    <tr>\n",
              "      <th>1</th>\n",
              "      <td>BACKGROUND</td>\n",
              "      <td>it is not clear whether these patients would b...</td>\n",
              "      <td>1</td>\n",
              "      <td>9</td>\n",
              "    </tr>\n",
              "    <tr>\n",
              "      <th>2</th>\n",
              "      <td>OBJECTIVE</td>\n",
              "      <td>we sought to determine whether a @-month cours...</td>\n",
              "      <td>2</td>\n",
              "      <td>9</td>\n",
              "    </tr>\n",
              "    <tr>\n",
              "      <th>3</th>\n",
              "      <td>METHODS</td>\n",
              "      <td>asthmatic patients who were ige sensitized to ...</td>\n",
              "      <td>3</td>\n",
              "      <td>9</td>\n",
              "    </tr>\n",
              "    <tr>\n",
              "      <th>4</th>\n",
              "      <td>METHODS</td>\n",
              "      <td>primary outcomes were improvement in quality o...</td>\n",
              "      <td>4</td>\n",
              "      <td>9</td>\n",
              "    </tr>\n",
              "    <tr>\n",
              "      <th>5</th>\n",
              "      <td>RESULTS</td>\n",
              "      <td>sixty-five patients were randomized .</td>\n",
              "      <td>5</td>\n",
              "      <td>9</td>\n",
              "    </tr>\n",
              "    <tr>\n",
              "      <th>6</th>\n",
              "      <td>RESULTS</td>\n",
              "      <td>fifty-nine patients started treatment ( @ rece...</td>\n",
              "      <td>6</td>\n",
              "      <td>9</td>\n",
              "    </tr>\n",
              "    <tr>\n",
              "      <th>7</th>\n",
              "      <td>RESULTS</td>\n",
              "      <td>fifty-six patients took the full @ months of m...</td>\n",
              "      <td>7</td>\n",
              "      <td>9</td>\n",
              "    </tr>\n",
              "    <tr>\n",
              "      <th>8</th>\n",
              "      <td>RESULTS</td>\n",
              "      <td>between the voriconazole and placebo groups , ...</td>\n",
              "      <td>8</td>\n",
              "      <td>9</td>\n",
              "    </tr>\n",
              "    <tr>\n",
              "      <th>9</th>\n",
              "      <td>CONCLUSIONS</td>\n",
              "      <td>we were unable to show a beneficial effect of ...</td>\n",
              "      <td>9</td>\n",
              "      <td>9</td>\n",
              "    </tr>\n",
              "    <tr>\n",
              "      <th>10</th>\n",
              "      <td>BACKGROUND</td>\n",
              "      <td>opioid antagonists ( e.g. , naltrexone ) and p...</td>\n",
              "      <td>0</td>\n",
              "      <td>10</td>\n",
              "    </tr>\n",
              "    <tr>\n",
              "      <th>11</th>\n",
              "      <td>BACKGROUND</td>\n",
              "      <td>the use of higher doses to achieve greater eff...</td>\n",
              "      <td>1</td>\n",
              "      <td>10</td>\n",
              "    </tr>\n",
              "    <tr>\n",
              "      <th>12</th>\n",
              "      <td>BACKGROUND</td>\n",
              "      <td>combining naltrexone and alprazolam might safe...</td>\n",
              "      <td>2</td>\n",
              "      <td>10</td>\n",
              "    </tr>\n",
              "    <tr>\n",
              "      <th>13</th>\n",
              "      <td>OBJECTIVE</td>\n",
              "      <td>the present pilot study tested the hypothesis ...</td>\n",
              "      <td>3</td>\n",
              "      <td>10</td>\n",
              "    </tr>\n",
              "  </tbody>\n",
              "</table>\n",
              "</div>\n",
              "      <button class=\"colab-df-convert\" onclick=\"convertToInteractive('df-05604d53-8176-4b9a-837f-7f13aadce7e7')\"\n",
              "              title=\"Convert this dataframe to an interactive table.\"\n",
              "              style=\"display:none;\">\n",
              "        \n",
              "  <svg xmlns=\"http://www.w3.org/2000/svg\" height=\"24px\"viewBox=\"0 0 24 24\"\n",
              "       width=\"24px\">\n",
              "    <path d=\"M0 0h24v24H0V0z\" fill=\"none\"/>\n",
              "    <path d=\"M18.56 5.44l.94 2.06.94-2.06 2.06-.94-2.06-.94-.94-2.06-.94 2.06-2.06.94zm-11 1L8.5 8.5l.94-2.06 2.06-.94-2.06-.94L8.5 2.5l-.94 2.06-2.06.94zm10 10l.94 2.06.94-2.06 2.06-.94-2.06-.94-.94-2.06-.94 2.06-2.06.94z\"/><path d=\"M17.41 7.96l-1.37-1.37c-.4-.4-.92-.59-1.43-.59-.52 0-1.04.2-1.43.59L10.3 9.45l-7.72 7.72c-.78.78-.78 2.05 0 2.83L4 21.41c.39.39.9.59 1.41.59.51 0 1.02-.2 1.41-.59l7.78-7.78 2.81-2.81c.8-.78.8-2.07 0-2.86zM5.41 20L4 18.59l7.72-7.72 1.47 1.35L5.41 20z\"/>\n",
              "  </svg>\n",
              "      </button>\n",
              "      \n",
              "  <style>\n",
              "    .colab-df-container {\n",
              "      display:flex;\n",
              "      flex-wrap:wrap;\n",
              "      gap: 12px;\n",
              "    }\n",
              "\n",
              "    .colab-df-convert {\n",
              "      background-color: #E8F0FE;\n",
              "      border: none;\n",
              "      border-radius: 50%;\n",
              "      cursor: pointer;\n",
              "      display: none;\n",
              "      fill: #1967D2;\n",
              "      height: 32px;\n",
              "      padding: 0 0 0 0;\n",
              "      width: 32px;\n",
              "    }\n",
              "\n",
              "    .colab-df-convert:hover {\n",
              "      background-color: #E2EBFA;\n",
              "      box-shadow: 0px 1px 2px rgba(60, 64, 67, 0.3), 0px 1px 3px 1px rgba(60, 64, 67, 0.15);\n",
              "      fill: #174EA6;\n",
              "    }\n",
              "\n",
              "    [theme=dark] .colab-df-convert {\n",
              "      background-color: #3B4455;\n",
              "      fill: #D2E3FC;\n",
              "    }\n",
              "\n",
              "    [theme=dark] .colab-df-convert:hover {\n",
              "      background-color: #434B5C;\n",
              "      box-shadow: 0px 1px 3px 1px rgba(0, 0, 0, 0.15);\n",
              "      filter: drop-shadow(0px 1px 2px rgba(0, 0, 0, 0.3));\n",
              "      fill: #FFFFFF;\n",
              "    }\n",
              "  </style>\n",
              "\n",
              "      <script>\n",
              "        const buttonEl =\n",
              "          document.querySelector('#df-05604d53-8176-4b9a-837f-7f13aadce7e7 button.colab-df-convert');\n",
              "        buttonEl.style.display =\n",
              "          google.colab.kernel.accessAllowed ? 'block' : 'none';\n",
              "\n",
              "        async function convertToInteractive(key) {\n",
              "          const element = document.querySelector('#df-05604d53-8176-4b9a-837f-7f13aadce7e7');\n",
              "          const dataTable =\n",
              "            await google.colab.kernel.invokeFunction('convertToInteractive',\n",
              "                                                     [key], {});\n",
              "          if (!dataTable) return;\n",
              "\n",
              "          const docLinkHtml = 'Like what you see? Visit the ' +\n",
              "            '<a target=\"_blank\" href=https://colab.research.google.com/notebooks/data_table.ipynb>data table notebook</a>'\n",
              "            + ' to learn more about interactive tables.';\n",
              "          element.innerHTML = '';\n",
              "          dataTable['output_type'] = 'display_data';\n",
              "          await google.colab.output.renderOutput(dataTable, element);\n",
              "          const docLink = document.createElement('div');\n",
              "          docLink.innerHTML = docLinkHtml;\n",
              "          element.appendChild(docLink);\n",
              "        }\n",
              "      </script>\n",
              "    </div>\n",
              "  </div>\n",
              "  "
            ]
          },
          "metadata": {},
          "execution_count": 18
        }
      ]
    },
    {
      "cell_type": "code",
      "source": [
        "#DIstribution of labels in training labels\n",
        "distrib=train_df.target.value_counts()\n",
        "distrib\n"
      ],
      "metadata": {
        "id": "9HnI39As0IpH",
        "outputId": "023bc4fc-0789-40f2-cfc2-6760191113db",
        "colab": {
          "base_uri": "https://localhost:8080/"
        }
      },
      "execution_count": 19,
      "outputs": [
        {
          "output_type": "execute_result",
          "data": {
            "text/plain": [
              "METHODS        9964\n",
              "RESULTS        9841\n",
              "CONCLUSIONS    4582\n",
              "BACKGROUND     3449\n",
              "OBJECTIVE      2376\n",
              "Name: target, dtype: int64"
            ]
          },
          "metadata": {},
          "execution_count": 19
        }
      ]
    },
    {
      "cell_type": "code",
      "source": [
        "import matplotlib.pyplot as plt\n",
        "\n",
        "plt.barh(val_df.target.unique(),distrib)"
      ],
      "metadata": {
        "id": "2eKwig312Z6y",
        "outputId": "9bea00c6-7d00-46cc-e12c-742abdc1abf1",
        "colab": {
          "base_uri": "https://localhost:8080/",
          "height": 447
        }
      },
      "execution_count": 20,
      "outputs": [
        {
          "output_type": "execute_result",
          "data": {
            "text/plain": [
              "<BarContainer object of 5 artists>"
            ]
          },
          "metadata": {},
          "execution_count": 20
        },
        {
          "output_type": "display_data",
          "data": {
            "text/plain": [
              "<Figure size 640x480 with 1 Axes>"
            ],
            "image/png": "[encoded data removed]"
          },
          "metadata": {}
        }
      ]
    },
    {
      "cell_type": "code",
      "source": [
        "#Check length of different lines\n",
        "\n",
        "# plt.bar(range(0,train_df.total_lines.value_counts().max()),train_df.total_lines.value_counts())\n",
        "train_df.total_lines.plot(kind=\"hist\",bins=27,rwidth=0.9,edgecolor=\"black\",color=\"pink\",xlabel=\"Number of sentences per abstract\",title=\"Sentence Distribution\");"
      ],
      "metadata": {
        "id": "qfx5VSYk0pIn",
        "outputId": "c37461c9-ccba-489d-92d0-b980462252fd",
        "colab": {
          "base_uri": "https://localhost:8080/",
          "height": 452
        }
      },
      "execution_count": 21,
      "outputs": [
        {
          "output_type": "display_data",
          "data": {
            "text/plain": [
              "<Figure size 640x480 with 1 Axes>"
            ],
            "image/png": "[encoded data removed]"
          },
          "metadata": {}
        }
      ]
    },
    {
      "cell_type": "code",
      "source": [
        "(train_df.total_lines.value_counts())"
      ],
      "metadata": {
        "id": "Ax7Il4je4EJ3",
        "outputId": "97317612-eb51-4fd9-ecc5-27f40e6c1e20",
        "colab": {
          "base_uri": "https://localhost:8080/"
        }
      },
      "execution_count": 22,
      "outputs": [
        {
          "output_type": "execute_result",
          "data": {
            "text/plain": [
              "11    4284\n",
              "10    3751\n",
              "12    3744\n",
              "9     3330\n",
              "13    3066\n",
              "14    2565\n",
              "8     1935\n",
              "15    1920\n",
              "16    1547\n",
              "7     1096\n",
              "17     666\n",
              "6      539\n",
              "18     475\n",
              "19     460\n",
              "20     189\n",
              "21     176\n",
              "5      162\n",
              "24      75\n",
              "22      69\n",
              "26      54\n",
              "25      52\n",
              "4       45\n",
              "3       12\n",
              "Name: total_lines, dtype: int64"
            ]
          },
          "metadata": {},
          "execution_count": 22
        }
      ]
    },
    {
      "cell_type": "markdown",
      "source": [
        "###Get the list of the sentences\n"
      ],
      "metadata": {
        "id": "d0uu6MOx06Ds"
      }
    },
    {
      "cell_type": "code",
      "source": [
        "#Convert abstract text into lists\n",
        "train_sentences=train_df[\"text\"].tolist()\n",
        "val_sentences=val_df[\"text\"].tolist()\n",
        "test_sentences=test_df[\"text\"].tolist()\n",
        "len(train_sentences),len(val_sentences),len(test_sentences)"
      ],
      "metadata": {
        "id": "GGNTV2Yx1TP7",
        "outputId": "3f2d72e7-ea80-41be-f213-11a80e5014cd",
        "colab": {
          "base_uri": "https://localhost:8080/"
        }
      },
      "execution_count": 23,
      "outputs": [
        {
          "output_type": "execute_result",
          "data": {
            "text/plain": [
              "(30212, 180040, 30135)"
            ]
          },
          "metadata": {},
          "execution_count": 23
        }
      ]
    },
    {
      "cell_type": "code",
      "source": [
        "train_labels=train_df[\"target\"].tolist()\n",
        "val_labels=val_df[\"target\"].tolist()\n",
        "test_labels=test_df[\"target\"].tolist()\n",
        "len(train_labels),len(val_labels),len(test_labels)"
      ],
      "metadata": {
        "id": "CdYk8sxEI04Z",
        "outputId": "0c6c4a82-6292-44da-f969-74ab55e483c4",
        "colab": {
          "base_uri": "https://localhost:8080/"
        }
      },
      "execution_count": 24,
      "outputs": [
        {
          "output_type": "execute_result",
          "data": {
            "text/plain": [
              "(30212, 180040, 30135)"
            ]
          },
          "metadata": {},
          "execution_count": 24
        }
      ]
    },
    {
      "cell_type": "code",
      "source": [
        "#View the first 10 lines of the training sentences\n",
        "train_sentences[:10],train_labels[:10]"
      ],
      "metadata": {
        "id": "DvDEJ7EK1fH5",
        "outputId": "68811432-cf97-4984-9916-ec69dc9f91f6",
        "colab": {
          "base_uri": "https://localhost:8080/"
        }
      },
      "execution_count": 25,
      "outputs": [
        {
          "output_type": "execute_result",
          "data": {
            "text/plain": [
              "(['ige sensitization to aspergillus fumigatus and a positive sputum fungal culture result are common in patients with refractory asthma .',\n",
              "  'it is not clear whether these patients would benefit from antifungal treatment .',\n",
              "  'we sought to determine whether a @-month course of voriconazole improved asthma-related outcomes in patients with asthma who are ige sensitized to a fumigatus .',\n",
              "  'asthmatic patients who were ige sensitized to a fumigatus with a history of at least @ severe exacerbations in the previous @ months were treated for @ months with @ mg of voriconazole twice daily , followed by observation for @ months , in a double-blind , placebo-controlled , randomized design .',\n",
              "  'primary outcomes were improvement in quality of life at the end of the treatment period and a reduction in the number of severe exacerbations over the @ months of the study .',\n",
              "  'sixty-five patients were randomized .',\n",
              "  'fifty-nine patients started treatment ( @ receiving voriconazole and @ receiving placebo ) and were included in an intention-to-treat analysis .',\n",
              "  'fifty-six patients took the full @ months of medication .',\n",
              "  'between the voriconazole and placebo groups , there were no significant differences in the number of severe exacerbations ( @ vs @ per patient per year , respectively ; mean difference , @ ; @ % ci , @-@ @ ) , quality of life ( change in asthma quality of life questionnaire score , @ vs @ ; mean difference between groups , @ ; @ % ci , -@ to -@ ) , or any of our secondary outcome measures .',\n",
              "  'we were unable to show a beneficial effect of @ months of treatment with voriconazole in patients with moderate-to-severe asthma who were ige sensitized to a fumigatus on either the rate of severe exacerbations , quality of life , or other markers of asthma control .'],\n",
              " ['BACKGROUND',\n",
              "  'BACKGROUND',\n",
              "  'OBJECTIVE',\n",
              "  'METHODS',\n",
              "  'METHODS',\n",
              "  'RESULTS',\n",
              "  'RESULTS',\n",
              "  'RESULTS',\n",
              "  'RESULTS',\n",
              "  'CONCLUSIONS'])"
            ]
          },
          "metadata": {},
          "execution_count": 25
        }
      ]
    },
    {
      "cell_type": "markdown",
      "source": [
        "##Making the numeric labels(for ml model)"
      ],
      "metadata": {
        "id": "Ai3ZkCoC2DaF"
      }
    },
    {
      "cell_type": "markdown",
      "source": [
        "###One hot encoder"
      ],
      "metadata": {
        "id": "cPu7PiPsA5gH"
      }
    },
    {
      "cell_type": "code",
      "source": [
        "# !pip install category_encoders -q\n",
        "# import category_encoders as ce\n",
        "# one_hot_encoded_lables=ce.OneHotEncoder(val_df.target.unique())\n"
      ],
      "metadata": {
        "id": "6p8B6-0366-k"
      },
      "execution_count": 26,
      "outputs": []
    },
    {
      "cell_type": "markdown",
      "source": [
        "Using the get_dummies for now..."
      ],
      "metadata": {
        "id": "1IYe72y19ogW"
      }
    },
    {
      "cell_type": "code",
      "source": [
        "%%time\n",
        "train_encoded_onehot=pd.get_dummies(train_df.target).to_numpy()\n",
        "val_encoded_onehot=pd.get_dummies(val_df.target).to_numpy()\n",
        "test_encoded_onehot=pd.get_dummies(test_df.target).to_numpy()"
      ],
      "metadata": {
        "id": "C5xkrGVH8RxC",
        "outputId": "d7965e5b-80f0-4748-d64d-d171488434d3",
        "colab": {
          "base_uri": "https://localhost:8080/"
        }
      },
      "execution_count": 27,
      "outputs": [
        {
          "output_type": "stream",
          "name": "stdout",
          "text": [
            "CPU times: user 35.1 ms, sys: 3.7 ms, total: 38.7 ms\n",
            "Wall time: 55.3 ms\n"
          ]
        }
      ]
    },
    {
      "cell_type": "code",
      "source": [
        "from sklearn.preprocessing import OneHotEncoder\n",
        "encoder=OneHotEncoder(sparse=False)#tf doesnt support sparse matrix\n"
      ],
      "metadata": {
        "id": "ejeESCdA-BYs"
      },
      "execution_count": 28,
      "outputs": []
    },
    {
      "cell_type": "code",
      "source": [
        "%%time\n",
        "train_one_hot=encoder.fit_transform(train_df[\"target\"].to_numpy().reshape(-1,1))\n",
        "train_one_hot"
      ],
      "metadata": {
        "id": "AAh0vHip-AKo",
        "outputId": "cc6b4d37-9187-4160-fda1-f8dd4b06bac3",
        "colab": {
          "base_uri": "https://localhost:8080/"
        }
      },
      "execution_count": 29,
      "outputs": [
        {
          "output_type": "stream",
          "name": "stdout",
          "text": [
            "CPU times: user 12.9 ms, sys: 849 µs, total: 13.8 ms\n",
            "Wall time: 22.9 ms\n"
          ]
        },
        {
          "output_type": "stream",
          "name": "stderr",
          "text": [
            "/usr/local/lib/python3.10/dist-packages/sklearn/preprocessing/_encoders.py:868: FutureWarning: `sparse` was renamed to `sparse_output` in version 1.2 and will be removed in 1.4. `sparse_output` is ignored unless you leave `sparse` to its default value.\n",
            "  warnings.warn(\n"
          ]
        },
        {
          "output_type": "execute_result",
          "data": {
            "text/plain": [
              "array([[1., 0., 0., 0., 0.],\n",
              "       [1., 0., 0., 0., 0.],\n",
              "       [0., 0., 0., 1., 0.],\n",
              "       ...,\n",
              "       [0., 0., 0., 0., 1.],\n",
              "       [0., 1., 0., 0., 0.],\n",
              "       [0., 1., 0., 0., 0.]])"
            ]
          },
          "metadata": {},
          "execution_count": 29
        }
      ]
    },
    {
      "cell_type": "markdown",
      "source": [
        "#####**Result**: get_dummies is a bit faster then one_hot(sklearn) [will see difference in the 200k dataset]"
      ],
      "metadata": {
        "id": "4HxC3tVu-wLk"
      }
    },
    {
      "cell_type": "code",
      "source": [
        "train_df.target[:5]"
      ],
      "metadata": {
        "id": "UWFRRESg71AN",
        "outputId": "779f7c8d-6868-452a-c8c3-5ea58b77e149",
        "colab": {
          "base_uri": "https://localhost:8080/"
        }
      },
      "execution_count": 30,
      "outputs": [
        {
          "output_type": "execute_result",
          "data": {
            "text/plain": [
              "0    BACKGROUND\n",
              "1    BACKGROUND\n",
              "2     OBJECTIVE\n",
              "3       METHODS\n",
              "4       METHODS\n",
              "Name: target, dtype: object"
            ]
          },
          "metadata": {},
          "execution_count": 30
        }
      ]
    },
    {
      "cell_type": "markdown",
      "source": [
        "###Label encode labels\n",
        "\n"
      ],
      "metadata": {
        "id": "gIlM3w1i_Vx0"
      }
    },
    {
      "cell_type": "markdown",
      "source": [
        "####Manual labelling"
      ],
      "metadata": {
        "id": "0_94-I92BBtL"
      }
    },
    {
      "cell_type": "code",
      "source": [
        "#Creating a Dictionary of target labels\n",
        "target_labels={label:target for label,target in enumerate(val_df.target.unique())}\n",
        "target_labels"
      ],
      "metadata": {
        "id": "jWCn3KsDA91p",
        "outputId": "d34e10c8-146b-439e-af7d-14b9ccb70748",
        "colab": {
          "base_uri": "https://localhost:8080/"
        }
      },
      "execution_count": 31,
      "outputs": [
        {
          "output_type": "execute_result",
          "data": {
            "text/plain": [
              "{0: 'OBJECTIVE', 1: 'METHODS', 2: 'RESULTS', 3: 'CONCLUSIONS', 4: 'BACKGROUND'}"
            ]
          },
          "metadata": {},
          "execution_count": 31
        }
      ]
    },
    {
      "cell_type": "code",
      "source": [
        "#get class names\n",
        "class_names=val_df.target.unique()\n",
        "class_names"
      ],
      "metadata": {
        "id": "SsPT0iwdDD8E",
        "outputId": "1dec9922-1b9d-4a96-c479-6c6364021e8f",
        "colab": {
          "base_uri": "https://localhost:8080/"
        }
      },
      "execution_count": 32,
      "outputs": [
        {
          "output_type": "execute_result",
          "data": {
            "text/plain": [
              "array(['OBJECTIVE', 'METHODS', 'RESULTS', 'CONCLUSIONS', 'BACKGROUND'],\n",
              "      dtype=object)"
            ]
          },
          "metadata": {},
          "execution_count": 32
        }
      ]
    },
    {
      "cell_type": "code",
      "source": [
        "test=train_df.replace(train_df.target.unique(),range(0,len(train_df.target.unique())))\n",
        "test[:5]"
      ],
      "metadata": {
        "id": "RA9qB4QfAwVf",
        "outputId": "241480f6-f4c1-40aa-cafb-07224f32826f",
        "colab": {
          "base_uri": "https://localhost:8080/",
          "height": 250
        }
      },
      "execution_count": 33,
      "outputs": [
        {
          "output_type": "execute_result",
          "data": {
            "text/plain": [
              "   target                                               text  line_number  \\\n",
              "0       0  ige sensitization to aspergillus fumigatus and...            0   \n",
              "1       0  it is not clear whether these patients would b...            1   \n",
              "2       1  we sought to determine whether a @-month cours...            2   \n",
              "3       2  asthmatic patients who were ige sensitized to ...            3   \n",
              "4       2  primary outcomes were improvement in quality o...            4   \n",
              "\n",
              "   total_lines  \n",
              "0            9  \n",
              "1            9  \n",
              "2            9  \n",
              "3            9  \n",
              "4            9  "
            ],
            "text/html": [
              "\n",
              "  <div id=\"df-e5c949f9-2766-416f-ba0f-a3ff06af3a99\">\n",
              "    <div class=\"colab-df-container\">\n",
              "      <div>\n",
              "<style scoped>\n",
              "    .dataframe tbody tr th:only-of-type {\n",
              "        vertical-align: middle;\n",
              "    }\n",
              "\n",
              "    .dataframe tbody tr th {\n",
              "        vertical-align: top;\n",
              "    }\n",
              "\n",
              "    .dataframe thead th {\n",
              "        text-align: right;\n",
              "    }\n",
              "</style>\n",
              "<table border=\"1\" class=\"dataframe\">\n",
              "  <thead>\n",
              "    <tr style=\"text-align: right;\">\n",
              "      <th></th>\n",
              "      <th>target</th>\n",
              "      <th>text</th>\n",
              "      <th>line_number</th>\n",
              "      <th>total_lines</th>\n",
              "    </tr>\n",
              "  </thead>\n",
              "  <tbody>\n",
              "    <tr>\n",
              "      <th>0</th>\n",
              "      <td>0</td>\n",
              "      <td>ige sensitization to aspergillus fumigatus and...</td>\n",
              "      <td>0</td>\n",
              "      <td>9</td>\n",
              "    </tr>\n",
              "    <tr>\n",
              "      <th>1</th>\n",
              "      <td>0</td>\n",
              "      <td>it is not clear whether these patients would b...</td>\n",
              "      <td>1</td>\n",
              "      <td>9</td>\n",
              "    </tr>\n",
              "    <tr>\n",
              "      <th>2</th>\n",
              "      <td>1</td>\n",
              "      <td>we sought to determine whether a @-month cours...</td>\n",
              "      <td>2</td>\n",
              "      <td>9</td>\n",
              "    </tr>\n",
              "    <tr>\n",
              "      <th>3</th>\n",
              "      <td>2</td>\n",
              "      <td>asthmatic patients who were ige sensitized to ...</td>\n",
              "      <td>3</td>\n",
              "      <td>9</td>\n",
              "    </tr>\n",
              "    <tr>\n",
              "      <th>4</th>\n",
              "      <td>2</td>\n",
              "      <td>primary outcomes were improvement in quality o...</td>\n",
              "      <td>4</td>\n",
              "      <td>9</td>\n",
              "    </tr>\n",
              "  </tbody>\n",
              "</table>\n",
              "</div>\n",
              "      <button class=\"colab-df-convert\" onclick=\"convertToInteractive('df-e5c949f9-2766-416f-ba0f-a3ff06af3a99')\"\n",
              "              title=\"Convert this dataframe to an interactive table.\"\n",
              "              style=\"display:none;\">\n",
              "        \n",
              "  <svg xmlns=\"http://www.w3.org/2000/svg\" height=\"24px\"viewBox=\"0 0 24 24\"\n",
              "       width=\"24px\">\n",
              "    <path d=\"M0 0h24v24H0V0z\" fill=\"none\"/>\n",
              "    <path d=\"M18.56 5.44l.94 2.06.94-2.06 2.06-.94-2.06-.94-.94-2.06-.94 2.06-2.06.94zm-11 1L8.5 8.5l.94-2.06 2.06-.94-2.06-.94L8.5 2.5l-.94 2.06-2.06.94zm10 10l.94 2.06.94-2.06 2.06-.94-2.06-.94-.94-2.06-.94 2.06-2.06.94z\"/><path d=\"M17.41 7.96l-1.37-1.37c-.4-.4-.92-.59-1.43-.59-.52 0-1.04.2-1.43.59L10.3 9.45l-7.72 7.72c-.78.78-.78 2.05 0 2.83L4 21.41c.39.39.9.59 1.41.59.51 0 1.02-.2 1.41-.59l7.78-7.78 2.81-2.81c.8-.78.8-2.07 0-2.86zM5.41 20L4 18.59l7.72-7.72 1.47 1.35L5.41 20z\"/>\n",
              "  </svg>\n",
              "      </button>\n",
              "      \n",
              "  <style>\n",
              "    .colab-df-container {\n",
              "      display:flex;\n",
              "      flex-wrap:wrap;\n",
              "      gap: 12px;\n",
              "    }\n",
              "\n",
              "    .colab-df-convert {\n",
              "      background-color: #E8F0FE;\n",
              "      border: none;\n",
              "      border-radius: 50%;\n",
              "      cursor: pointer;\n",
              "      display: none;\n",
              "      fill: #1967D2;\n",
              "      height: 32px;\n",
              "      padding: 0 0 0 0;\n",
              "      width: 32px;\n",
              "    }\n",
              "\n",
              "    .colab-df-convert:hover {\n",
              "      background-color: #E2EBFA;\n",
              "      box-shadow: 0px 1px 2px rgba(60, 64, 67, 0.3), 0px 1px 3px 1px rgba(60, 64, 67, 0.15);\n",
              "      fill: #174EA6;\n",
              "    }\n",
              "\n",
              "    [theme=dark] .colab-df-convert {\n",
              "      background-color: #3B4455;\n",
              "      fill: #D2E3FC;\n",
              "    }\n",
              "\n",
              "    [theme=dark] .colab-df-convert:hover {\n",
              "      background-color: #434B5C;\n",
              "      box-shadow: 0px 1px 3px 1px rgba(0, 0, 0, 0.15);\n",
              "      filter: drop-shadow(0px 1px 2px rgba(0, 0, 0, 0.3));\n",
              "      fill: #FFFFFF;\n",
              "    }\n",
              "  </style>\n",
              "\n",
              "      <script>\n",
              "        const buttonEl =\n",
              "          document.querySelector('#df-e5c949f9-2766-416f-ba0f-a3ff06af3a99 button.colab-df-convert');\n",
              "        buttonEl.style.display =\n",
              "          google.colab.kernel.accessAllowed ? 'block' : 'none';\n",
              "\n",
              "        async function convertToInteractive(key) {\n",
              "          const element = document.querySelector('#df-e5c949f9-2766-416f-ba0f-a3ff06af3a99');\n",
              "          const dataTable =\n",
              "            await google.colab.kernel.invokeFunction('convertToInteractive',\n",
              "                                                     [key], {});\n",
              "          if (!dataTable) return;\n",
              "\n",
              "          const docLinkHtml = 'Like what you see? Visit the ' +\n",
              "            '<a target=\"_blank\" href=https://colab.research.google.com/notebooks/data_table.ipynb>data table notebook</a>'\n",
              "            + ' to learn more about interactive tables.';\n",
              "          element.innerHTML = '';\n",
              "          dataTable['output_type'] = 'display_data';\n",
              "          await google.colab.output.renderOutput(dataTable, element);\n",
              "          const docLink = document.createElement('div');\n",
              "          docLink.innerHTML = docLinkHtml;\n",
              "          element.appendChild(docLink);\n",
              "        }\n",
              "      </script>\n",
              "    </div>\n",
              "  </div>\n",
              "  "
            ]
          },
          "metadata": {},
          "execution_count": 33
        }
      ]
    },
    {
      "cell_type": "markdown",
      "source": [
        "####Using Sklearn here"
      ],
      "metadata": {
        "id": "6K9yVYJRA-uc"
      }
    },
    {
      "cell_type": "code",
      "source": [
        "from sklearn.preprocessing import LabelEncoder\n",
        "label_encoder=LabelEncoder()\n",
        "train_labels_encoded=label_encoder.fit_transform(train_df[\"target\"].to_numpy())\n",
        "val_labels_encoded=label_encoder.transform(val_df[\"target\"].to_numpy())\n",
        "test_labels_encoded=label_encoder.transform(test_df[\"target\"].to_numpy())\n",
        "\n",
        "#check what the training label look like\n",
        "\n",
        "train_labels_encoded[:5],train_labels_encoded.shape"
      ],
      "metadata": {
        "id": "ReRvaZ3SBGdu",
        "outputId": "484d8844-a5fe-42f4-a76b-b2c3dc304a59",
        "colab": {
          "base_uri": "https://localhost:8080/"
        }
      },
      "execution_count": 34,
      "outputs": [
        {
          "output_type": "execute_result",
          "data": {
            "text/plain": [
              "(array([0, 0, 3, 2, 2]), (30212,))"
            ]
          },
          "metadata": {},
          "execution_count": 34
        }
      ]
    },
    {
      "cell_type": "code",
      "source": [
        "class_names[train_labels_encoded[:5]]"
      ],
      "metadata": {
        "id": "emjftMvjB7V7",
        "outputId": "0f504d3c-cdb8-4eea-b914-d578a3981312",
        "colab": {
          "base_uri": "https://localhost:8080/"
        }
      },
      "execution_count": 35,
      "outputs": [
        {
          "output_type": "execute_result",
          "data": {
            "text/plain": [
              "array(['OBJECTIVE', 'OBJECTIVE', 'CONCLUSIONS', 'RESULTS', 'RESULTS'],\n",
              "      dtype=object)"
            ]
          },
          "metadata": {},
          "execution_count": 35
        }
      ]
    },
    {
      "cell_type": "markdown",
      "source": [
        "###Model 0(Bayes Classification): The baseline"
      ],
      "metadata": {
        "id": "UzukjPhMCROJ"
      }
    },
    {
      "cell_type": "code",
      "source": [
        "#importing libraries\n",
        "from sklearn.naive_bayes import MultinomialNB\n",
        "from sklearn.feature_extraction.text import TfidfVectorizer\n",
        "from sklearn.feature_extraction.text import CountVectorizer"
      ],
      "metadata": {
        "id": "OBvt2kPSFbdw"
      },
      "execution_count": 36,
      "outputs": []
    },
    {
      "cell_type": "code",
      "source": [
        "tf_vectorizer=CountVectorizer()\n",
        "vectorized_sentences=tf_vectorizer.fit_transform(train_sentences)\n",
        "vectorized_val_sentences=tf_vectorizer.transform(val_sentences)"
      ],
      "metadata": {
        "id": "7pjP_KPSG-kH"
      },
      "execution_count": 37,
      "outputs": []
    },
    {
      "cell_type": "code",
      "source": [
        "len(train_sentences),vectorized_sentences.data"
      ],
      "metadata": {
        "id": "jT1uNNB4Hts_",
        "outputId": "eecdb006-0a98-4d3d-e0ec-e1e5e9269df5",
        "colab": {
          "base_uri": "https://localhost:8080/"
        }
      },
      "execution_count": 38,
      "outputs": [
        {
          "output_type": "execute_result",
          "data": {
            "text/plain": [
              "(30212, array([1, 1, 1, ..., 1, 1, 1]))"
            ]
          },
          "metadata": {},
          "execution_count": 38
        }
      ]
    },
    {
      "cell_type": "code",
      "source": [
        "vectorized_val_sentences.shape,vectorized_sentences.shape"
      ],
      "metadata": {
        "id": "37qx3N95Ltmi",
        "outputId": "22c7adac-c50e-404a-8a1d-0247d2467f12",
        "colab": {
          "base_uri": "https://localhost:8080/"
        }
      },
      "execution_count": 39,
      "outputs": [
        {
          "output_type": "execute_result",
          "data": {
            "text/plain": [
              "((180040, 20453), (30212, 20453))"
            ]
          },
          "metadata": {},
          "execution_count": 39
        }
      ]
    },
    {
      "cell_type": "code",
      "source": [
        "nb_classifier=MultinomialNB()\n",
        "nb_classifier.fit(vectorized_sentences,train_labels_encoded)"
      ],
      "metadata": {
        "id": "yWo5Cuu1Hjb9",
        "outputId": "15bb8e95-d310-4748-ffe4-63ad83868952",
        "colab": {
          "base_uri": "https://localhost:8080/",
          "height": 74
        }
      },
      "execution_count": 40,
      "outputs": [
        {
          "output_type": "execute_result",
          "data": {
            "text/plain": [
              "MultinomialNB()"
            ],
            "text/html": [
              "<style>#sk-container-id-1 {color: black;background-color: white;}#sk-container-id-1 pre{padding: 0;}#sk-container-id-1 div.sk-toggleable {background-color: white;}#sk-container-id-1 label.sk-toggleable__label {cursor: pointer;display: block;width: 100%;margin-bottom: 0;padding: 0.3em;box-sizing: border-box;text-align: center;}#sk-container-id-1 label.sk-toggleable__label-arrow:before {content: \"▸\";float: left;margin-right: 0.25em;color: #696969;}#sk-container-id-1 label.sk-toggleable__label-arrow:hover:before {color: black;}#sk-container-id-1 div.sk-estimator:hover label.sk-toggleable__label-arrow:before {color: black;}#sk-container-id-1 div.sk-toggleable__content {max-height: 0;max-width: 0;overflow: hidden;text-align: left;background-color: #f0f8ff;}#sk-container-id-1 div.sk-toggleable__content pre {margin: 0.2em;color: black;border-radius: 0.25em;background-color: #f0f8ff;}#sk-container-id-1 input.sk-toggleable__control:checked~div.sk-toggleable__content {max-height: 200px;max-width: 100%;overflow: auto;}#sk-container-id-1 input.sk-toggleable__control:checked~label.sk-toggleable__label-arrow:before {content: \"▾\";}#sk-container-id-1 div.sk-estimator input.sk-toggleable__control:checked~label.sk-toggleable__label {background-color: #d4ebff;}#sk-container-id-1 div.sk-label input.sk-toggleable__control:checked~label.sk-toggleable__label {background-color: #d4ebff;}#sk-container-id-1 input.sk-hidden--visually {border: 0;clip: rect(1px 1px 1px 1px);clip: rect(1px, 1px, 1px, 1px);height: 1px;margin: -1px;overflow: hidden;padding: 0;position: absolute;width: 1px;}#sk-container-id-1 div.sk-estimator {font-family: monospace;background-color: #f0f8ff;border: 1px dotted black;border-radius: 0.25em;box-sizing: border-box;margin-bottom: 0.5em;}#sk-container-id-1 div.sk-estimator:hover {background-color: #d4ebff;}#sk-container-id-1 div.sk-parallel-item::after {content: \"\";width: 100%;border-bottom: 1px solid gray;flex-grow: 1;}#sk-container-id-1 div.sk-label:hover label.sk-toggleable__label {background-color: #d4ebff;}#sk-container-id-1 div.sk-serial::before {content: \"\";position: absolute;border-left: 1px solid gray;box-sizing: border-box;top: 0;bottom: 0;left: 50%;z-index: 0;}#sk-container-id-1 div.sk-serial {display: flex;flex-direction: column;align-items: center;background-color: white;padding-right: 0.2em;padding-left: 0.2em;position: relative;}#sk-container-id-1 div.sk-item {position: relative;z-index: 1;}#sk-container-id-1 div.sk-parallel {display: flex;align-items: stretch;justify-content: center;background-color: white;position: relative;}#sk-container-id-1 div.sk-item::before, #sk-container-id-1 div.sk-parallel-item::before {content: \"\";position: absolute;border-left: 1px solid gray;box-sizing: border-box;top: 0;bottom: 0;left: 50%;z-index: -1;}#sk-container-id-1 div.sk-parallel-item {display: flex;flex-direction: column;z-index: 1;position: relative;background-color: white;}#sk-container-id-1 div.sk-parallel-item:first-child::after {align-self: flex-end;width: 50%;}#sk-container-id-1 div.sk-parallel-item:last-child::after {align-self: flex-start;width: 50%;}#sk-container-id-1 div.sk-parallel-item:only-child::after {width: 0;}#sk-container-id-1 div.sk-dashed-wrapped {border: 1px dashed gray;margin: 0 0.4em 0.5em 0.4em;box-sizing: border-box;padding-bottom: 0.4em;background-color: white;}#sk-container-id-1 div.sk-label label {font-family: monospace;font-weight: bold;display: inline-block;line-height: 1.2em;}#sk-container-id-1 div.sk-label-container {text-align: center;}#sk-container-id-1 div.sk-container {/* jupyter's `normalize.less` sets `[hidden] { display: none; }` but bootstrap.min.css set `[hidden] { display: none !important; }` so we also need the `!important` here to be able to override the default hidden behavior on the sphinx rendered scikit-learn.org. See: https://github.com/scikit-learn/scikit-learn/issues/21755 */display: inline-block !important;position: relative;}#sk-container-id-1 div.sk-text-repr-fallback {display: none;}</style><div id=\"sk-container-id-1\" class=\"sk-top-container\"><div class=\"sk-text-repr-fallback\"><pre>MultinomialNB()</pre><b>In a Jupyter environment, please rerun this cell to show the HTML representation or trust the notebook. <br />On GitHub, the HTML representation is unable to render, please try loading this page with nbviewer.org.</b></div><div class=\"sk-container\" hidden><div class=\"sk-item\"><div class=\"sk-estimator sk-toggleable\"><input class=\"sk-toggleable__control sk-hidden--visually\" id=\"sk-estimator-id-1\" type=\"checkbox\" checked><label for=\"sk-estimator-id-1\" class=\"sk-toggleable__label sk-toggleable__label-arrow\">MultinomialNB</label><div class=\"sk-toggleable__content\"><pre>MultinomialNB()</pre></div></div></div></div></div>"
            ]
          },
          "metadata": {},
          "execution_count": 40
        }
      ]
    },
    {
      "cell_type": "code",
      "source": [
        "nb_classifier.score(vectorized_val_sentences,val_labels_encoded)"
      ],
      "metadata": {
        "id": "qLgCq-VAHr8t",
        "outputId": "f30fb8c8-2457-4b31-9f11-cd0d1593971e",
        "colab": {
          "base_uri": "https://localhost:8080/"
        }
      },
      "execution_count": 41,
      "outputs": [
        {
          "output_type": "execute_result",
          "data": {
            "text/plain": [
              "0.7482337258387025"
            ]
          },
          "metadata": {},
          "execution_count": 41
        }
      ]
    },
    {
      "cell_type": "code",
      "source": [
        "model_0_preds=nb_classifier.predict(vectorized_val_sentences)\n",
        "model_0_preds[:5]"
      ],
      "metadata": {
        "id": "t5k3BBagZBqn",
        "outputId": "f2361164-6218-4629-8582-50062c607329",
        "colab": {
          "base_uri": "https://localhost:8080/"
        }
      },
      "execution_count": 42,
      "outputs": [
        {
          "output_type": "execute_result",
          "data": {
            "text/plain": [
              "array([3, 2, 4, 2, 2])"
            ]
          },
          "metadata": {},
          "execution_count": 42
        }
      ]
    },
    {
      "cell_type": "code",
      "source": [
        "from sklearn.metrics import confusion_matrix,ConfusionMatrixDisplay\n",
        "cm=confusion_matrix(val_labels_encoded,model_0_preds)\n",
        "cm"
      ],
      "metadata": {
        "id": "o5xKyhLsK879",
        "outputId": "d42084db-5a58-4f2f-ff0a-c0fbfa57f51f",
        "colab": {
          "base_uri": "https://localhost:8080/"
        }
      },
      "execution_count": 43,
      "outputs": [
        {
          "output_type": "execute_result",
          "data": {
            "text/plain": [
              "array([[11769,  4762,  1681,  3165,   350],\n",
              "       [ 2667, 18360,  1069,   612,  4460],\n",
              "       [ 1317,  1050, 50990,   640,  5356],\n",
              "       [ 3410,  1944,  1598,  6688,   199],\n",
              "       [  472,  2908,  7470,   198, 46905]])"
            ]
          },
          "metadata": {},
          "execution_count": 43
        }
      ]
    },
    {
      "cell_type": "code",
      "source": [
        "cm_display =ConfusionMatrixDisplay(confusion_matrix = cm,display_labels=class_names)\n",
        "\n",
        "cm_display.plot();\n"
      ],
      "metadata": {
        "id": "Myzh1pZ5LBpT",
        "outputId": "4ad2227d-f0b3-44d5-993d-e329a0c0fac4",
        "colab": {
          "base_uri": "https://localhost:8080/",
          "height": 449
        }
      },
      "execution_count": 44,
      "outputs": [
        {
          "output_type": "display_data",
          "data": {
            "text/plain": [
              "<Figure size 640x480 with 2 Axes>"
            ],
            "image/png": "[encoded data removed]"
          },
          "metadata": {}
        }
      ]
    },
    {
      "cell_type": "code",
      "source": [
        "from sklearn.metrics import accuracy_score,precision_recall_fscore_support\n",
        "def calc_results(y_true,y_pred):\n",
        "  \"\"\"\n",
        "  Calculates model accuracy, precision, recall and f1 score of a binary\n",
        "  classification model.\n",
        "  \"\"\"\n",
        "\n",
        "  #Classification model accuracy\n",
        "  model_accuracy=accuracy_score(y_true,y_pred)*100\n",
        "  #Calc the model precision recall and f1 score \n",
        "  model_precision,model_recall,model_f1score, _ =precision_recall_fscore_support(y_true,y_pred,average=\"weighted\")\n",
        "  return {\"accuracy\":model_accuracy,\n",
        "              \"precision\":model_precision,\n",
        "              \"recall\":model_recall,\n",
        "              \"f1-score\":model_f1score}"
      ],
      "metadata": {
        "id": "cFbvklXqZMch"
      },
      "execution_count": 45,
      "outputs": []
    },
    {
      "cell_type": "code",
      "source": [
        "baseline_results=calc_results(val_labels_encoded,model_0_preds)\n",
        "baseline_results"
      ],
      "metadata": {
        "id": "TktbqJ2-guQx",
        "outputId": "2a0146d3-b239-4261-f661-2d0522fe2c20",
        "colab": {
          "base_uri": "https://localhost:8080/"
        }
      },
      "execution_count": 46,
      "outputs": [
        {
          "output_type": "execute_result",
          "data": {
            "text/plain": [
              "{'accuracy': 74.82337258387025,\n",
              " 'precision': 0.7445394934358723,\n",
              " 'recall': 0.7482337258387025,\n",
              " 'f1-score': 0.7454529245479105}"
            ]
          },
          "metadata": {},
          "execution_count": 46
        }
      ]
    },
    {
      "cell_type": "markdown",
      "source": [
        "###Preparing the embedding layer for upcoming models\n",
        "\n",
        "We need to convert the tokenized sentences into word embeddings,inorder to make accurate predictions on then through different models!"
      ],
      "metadata": {
        "id": "6fTFer-ahBdM"
      }
    },
    {
      "cell_type": "code",
      "source": [
        "import tensorflow as tf\n",
        "from tensorflow.keras import layers\n"
      ],
      "metadata": {
        "id": "po-VbKF2qlq2"
      },
      "execution_count": 47,
      "outputs": []
    },
    {
      "cell_type": "code",
      "source": [
        "round(sum([len(i.split()) for i in train_sentences])/len(train_sentences))"
      ],
      "metadata": {
        "id": "1URZDe1lsPt8",
        "outputId": "9ac10ddb-d53e-42fb-c065-39309afa6285",
        "colab": {
          "base_uri": "https://localhost:8080/"
        }
      },
      "execution_count": 48,
      "outputs": [
        {
          "output_type": "execute_result",
          "data": {
            "text/plain": [
              "26"
            ]
          },
          "metadata": {},
          "execution_count": 48
        }
      ]
    },
    {
      "cell_type": "code",
      "source": [
        "###Creating an embedding layer and text vectorization layer\n",
        "text_vectorizer=layers.TextVectorization(max_tokens=10000, #dictionary size\n",
        "                                         standardize='lower_and_strip_punctuation',\n",
        "                                         split='whitespace',\n",
        "                                         output_mode='int',\n",
        "                                         pad_to_max_tokens=True,\n",
        "                                         output_sequence_length=26)\n"
      ],
      "metadata": {
        "id": "k7TAc-TzqhPQ"
      },
      "execution_count": 49,
      "outputs": []
    },
    {
      "cell_type": "code",
      "source": [
        "#adapt==fit\n",
        "text_vectorizer.adapt(train_sentences)\n"
      ],
      "metadata": {
        "id": "duQDN6TotFAV"
      },
      "execution_count": 50,
      "outputs": []
    },
    {
      "cell_type": "code",
      "source": [
        "words_in_vocab=text_vectorizer.get_vocabulary()\n",
        "words_in_vocab[:5] #Most used\n"
      ],
      "metadata": {
        "id": "ZD22e9lRtGg9",
        "outputId": "f9d2482a-003e-4023-d504-6e04cb8530ba",
        "colab": {
          "base_uri": "https://localhost:8080/"
        }
      },
      "execution_count": 51,
      "outputs": [
        {
          "output_type": "execute_result",
          "data": {
            "text/plain": [
              "['', '[UNK]', 'the', 'and', 'of']"
            ]
          },
          "metadata": {},
          "execution_count": 51
        }
      ]
    },
    {
      "cell_type": "code",
      "source": [
        "words_in_vocab[-5:] #least used"
      ],
      "metadata": {
        "id": "0or8qOFm1COC",
        "outputId": "bb088753-67df-48b8-b2cf-a2062ff2c42d",
        "colab": {
          "base_uri": "https://localhost:8080/"
        }
      },
      "execution_count": 52,
      "outputs": [
        {
          "output_type": "execute_result",
          "data": {
            "text/plain": [
              "['gentle', 'genetically', 'generations', 'genebased', 'gen']"
            ]
          },
          "metadata": {},
          "execution_count": 52
        }
      ]
    },
    {
      "cell_type": "code",
      "source": [
        "#Creating an embedding layer\n",
        "embedding=layers.Embedding(input_dim=10000,\n",
        "                           output_dim=512,\n",
        "                           input_length=26)"
      ],
      "metadata": {
        "id": "XKOelLIluaF4"
      },
      "execution_count": 53,
      "outputs": []
    },
    {
      "cell_type": "code",
      "source": [
        "#A example\n",
        "x=text_vectorizer(train_sentences[0])\n",
        "ex=embedding(x)\n",
        "print(f\"the sentence is: {train_sentences[0]} \\n the vectorized sentence is: {x} \\n the embedded sentence is : {ex}\")\n"
      ],
      "metadata": {
        "id": "G9YEO_6HvlGr",
        "outputId": "654816a0-8664-4d72-bdf3-386ce1b4d372",
        "colab": {
          "base_uri": "https://localhost:8080/"
        }
      },
      "execution_count": 54,
      "outputs": [
        {
          "output_type": "stream",
          "name": "stdout",
          "text": [
            "the sentence is: ige sensitization to aspergillus fumigatus and a positive sputum fungal culture result are common in patients with refractory asthma . \n",
            " the vectorized sentence is: [3464 4041    6    1    1    3    8  283 2035    1 1302  678   64  333\n",
            "    5   11    7 3593  471    0    0    0    0    0    0    0] \n",
            " the embedded sentence is : [[ 0.04967055 -0.0359166  -0.04132523 ...  0.00430674  0.02972198\n",
            "  -0.00844311]\n",
            " [-0.01826184  0.01017277  0.0456136  ... -0.04853541  0.047428\n",
            "   0.04610569]\n",
            " [ 0.03115052 -0.00053234  0.04482872 ...  0.00195196 -0.04497091\n",
            "  -0.0182739 ]\n",
            " ...\n",
            " [-0.04443137 -0.00207343  0.00226793 ... -0.01413374 -0.03226183\n",
            "  -0.0246313 ]\n",
            " [-0.04443137 -0.00207343  0.00226793 ... -0.01413374 -0.03226183\n",
            "  -0.0246313 ]\n",
            " [-0.04443137 -0.00207343  0.00226793 ... -0.01413374 -0.03226183\n",
            "  -0.0246313 ]]\n"
          ]
        }
      ]
    },
    {
      "cell_type": "markdown",
      "source": [
        "###Model 1: The conv1D layer"
      ],
      "metadata": {
        "id": "4o_KaUuK2CLl"
      }
    },
    {
      "cell_type": "code",
      "source": [
        "inputs=layers.Input(shape=(1,),dtype=tf.string)\n",
        "x=text_vectorizer(inputs)\n",
        "x=embedding(x)\n",
        "x=layers.Conv1D(filters=64,kernel_size=5)(x)\n",
        "x=layers.GlobalMaxPooling1D()(x)\n",
        "outputs=layers.Dense(5,activation=\"softmax\")(x)\n",
        "\n",
        "model_1=tf.keras.Model(inputs,outputs,name=\"model_1_conv1d\")\n",
        "\n",
        "\n",
        "model_1.compile(optimizer=tf.keras.optimizers.Adam(),\n",
        "                loss=\"categorical_crossentropy\",\n",
        "                metrics=[\"accuracy\"])"
      ],
      "metadata": {
        "id": "o0ODM8Lx2Ow7"
      },
      "execution_count": 71,
      "outputs": []
    },
    {
      "cell_type": "code",
      "source": [
        "model_1.summary()"
      ],
      "metadata": {
        "id": "hC79ot7bp_mH",
        "outputId": "dc4242d9-57e5-4b82-c849-dd336223614d",
        "colab": {
          "base_uri": "https://localhost:8080/"
        }
      },
      "execution_count": 73,
      "outputs": [
        {
          "output_type": "stream",
          "name": "stdout",
          "text": [
            "Model: \"model_1_conv1d\"\n",
            "_________________________________________________________________\n",
            " Layer (type)                Output Shape              Param #   \n",
            "=================================================================\n",
            " input_3 (InputLayer)        [(None, 1)]               0         \n",
            "                                                                 \n",
            " text_vectorization (TextVec  (None, 26)               0         \n",
            " torization)                                                     \n",
            "                                                                 \n",
            " embedding (Embedding)       (None, 26, 512)           5120000   \n",
            "                                                                 \n",
            " conv1d_2 (Conv1D)           (None, 22, 64)            163904    \n",
            "                                                                 \n",
            " global_max_pooling1d_2 (Glo  (None, 64)               0         \n",
            " balMaxPooling1D)                                                \n",
            "                                                                 \n",
            " dense_2 (Dense)             (None, 5)                 325       \n",
            "                                                                 \n",
            "=================================================================\n",
            "Total params: 5,284,229\n",
            "Trainable params: 5,284,229\n",
            "Non-trainable params: 0\n",
            "_________________________________________________________________\n"
          ]
        }
      ]
    },
    {
      "cell_type": "code",
      "source": [
        "!wget https://github.com/mrdbourke/tensorflow-deep-learning/raw/main/extras/helper_functions.py"
      ],
      "metadata": {
        "id": "WuesgeFwsXJe",
        "outputId": "56076f4f-54a2-4a21-fc2d-0adc4e57486d",
        "colab": {
          "base_uri": "https://localhost:8080/"
        }
      },
      "execution_count": 74,
      "outputs": [
        {
          "output_type": "stream",
          "name": "stdout",
          "text": [
            "--2023-06-06 18:12:49--  https://github.com/mrdbourke/tensorflow-deep-learning/raw/main/extras/helper_functions.py\n",
            "Resolving github.com (github.com)... 140.82.121.3\n",
            "Connecting to github.com (github.com)|140.82.121.3|:443... connected.\n",
            "HTTP request sent, awaiting response... 302 Found\n",
            "Location: https://raw.githubusercontent.com/mrdbourke/tensorflow-deep-learning/main/extras/helper_functions.py [following]\n",
            "--2023-06-06 18:12:49--  https://raw.githubusercontent.com/mrdbourke/tensorflow-deep-learning/main/extras/helper_functions.py\n",
            "Resolving raw.githubusercontent.com (raw.githubusercontent.com)... 185.199.111.133, 185.199.109.133, 185.199.108.133, ...\n",
            "Connecting to raw.githubusercontent.com (raw.githubusercontent.com)|185.199.111.133|:443... connected.\n",
            "HTTP request sent, awaiting response... 200 OK\n",
            "Length: 10246 (10K) [text/plain]\n",
            "Saving to: ‘helper_functions.py.2’\n",
            "\n",
            "helper_functions.py 100%[===================>]  10.01K  --.-KB/s    in 0s      \n",
            "\n",
            "2023-06-06 18:12:50 (103 MB/s) - ‘helper_functions.py.2’ saved [10246/10246]\n",
            "\n"
          ]
        }
      ]
    },
    {
      "cell_type": "code",
      "source": [
        "from helper_functions import create_tensorboard_callback"
      ],
      "metadata": {
        "id": "FQbI_IcAug6V"
      },
      "execution_count": 75,
      "outputs": []
    },
    {
      "cell_type": "code",
      "source": [
        "\n",
        "import numpy as np\n",
        "SAVE_DIR=\"model_logs\""
      ],
      "metadata": {
        "id": "ylzvwAuVvH0b"
      },
      "execution_count": 76,
      "outputs": []
    },
    {
      "cell_type": "code",
      "source": [
        "model_1.fit(x=np.array(train_sentences),\n",
        "            y=train_labels_encoded,\n",
        "            epochs=5,\n",
        "            validation_data=(np.array(val_sentences),val_labels_encoded),\n",
        "            callbacks=[create_tensorboard_callback(SAVE_DIR,\"model_1_Conv1D\")])"
      ],
      "metadata": {
        "id": "rg_jNWpnwk73",
        "outputId": "028d4aa5-e1ef-4978-8772-d3fb6888e466",
        "colab": {
          "base_uri": "https://localhost:8080/",
          "height": 1000
        }
      },
      "execution_count": 78,
      "outputs": [
        {
          "output_type": "stream",
          "name": "stdout",
          "text": [
            "Saving TensorBoard log files to: model_logs/model_1_Conv1D/20230606-181312\n",
            "Epoch 1/5\n"
          ]
        },
        {
          "output_type": "error",
          "ename": "ValueError",
          "evalue": "ignored",
          "traceback": [
            "\u001b[0;31m---------------------------------------------------------------------------\u001b[0m",
            "\u001b[0;31mValueError\u001b[0m                                Traceback (most recent call last)",
            "\u001b[0;32m<ipython-input-78-0d2c5dc88cbb>\u001b[0m in \u001b[0;36m<cell line: 1>\u001b[0;34m()\u001b[0m\n\u001b[0;32m----> 1\u001b[0;31m model_1.fit(x=np.array(train_sentences),\n\u001b[0m\u001b[1;32m      2\u001b[0m             \u001b[0my\u001b[0m\u001b[0;34m=\u001b[0m\u001b[0mtrain_labels_encoded\u001b[0m\u001b[0;34m,\u001b[0m\u001b[0;34m\u001b[0m\u001b[0;34m\u001b[0m\u001b[0m\n\u001b[1;32m      3\u001b[0m             \u001b[0mepochs\u001b[0m\u001b[0;34m=\u001b[0m\u001b[0;36m5\u001b[0m\u001b[0;34m,\u001b[0m\u001b[0;34m\u001b[0m\u001b[0;34m\u001b[0m\u001b[0m\n\u001b[1;32m      4\u001b[0m             \u001b[0;31m# validation_data=(np.array(val_sentences),val_labels_encoded),\u001b[0m\u001b[0;34m\u001b[0m\u001b[0;34m\u001b[0m\u001b[0m\n\u001b[1;32m      5\u001b[0m             callbacks=[create_tensorboard_callback(SAVE_DIR,\"model_1_Conv1D\")])\n",
            "\u001b[0;32m/usr/local/lib/python3.10/dist-packages/keras/utils/traceback_utils.py\u001b[0m in \u001b[0;36merror_handler\u001b[0;34m(*args, **kwargs)\u001b[0m\n\u001b[1;32m     68\u001b[0m             \u001b[0;31m# To get the full stack trace, call:\u001b[0m\u001b[0;34m\u001b[0m\u001b[0;34m\u001b[0m\u001b[0m\n\u001b[1;32m     69\u001b[0m             \u001b[0;31m# `tf.debugging.disable_traceback_filtering()`\u001b[0m\u001b[0;34m\u001b[0m\u001b[0;34m\u001b[0m\u001b[0m\n\u001b[0;32m---> 70\u001b[0;31m             \u001b[0;32mraise\u001b[0m \u001b[0me\u001b[0m\u001b[0;34m.\u001b[0m\u001b[0mwith_traceback\u001b[0m\u001b[0;34m(\u001b[0m\u001b[0mfiltered_tb\u001b[0m\u001b[0;34m)\u001b[0m \u001b[0;32mfrom\u001b[0m \u001b[0;32mNone\u001b[0m\u001b[0;34m\u001b[0m\u001b[0;34m\u001b[0m\u001b[0m\n\u001b[0m\u001b[1;32m     71\u001b[0m         \u001b[0;32mfinally\u001b[0m\u001b[0;34m:\u001b[0m\u001b[0;34m\u001b[0m\u001b[0;34m\u001b[0m\u001b[0m\n\u001b[1;32m     72\u001b[0m             \u001b[0;32mdel\u001b[0m \u001b[0mfiltered_tb\u001b[0m\u001b[0;34m\u001b[0m\u001b[0;34m\u001b[0m\u001b[0m\n",
            "\u001b[0;32m/usr/local/lib/python3.10/dist-packages/keras/engine/training.py\u001b[0m in \u001b[0;36mtf__train_function\u001b[0;34m(iterator)\u001b[0m\n\u001b[1;32m     13\u001b[0m                 \u001b[0;32mtry\u001b[0m\u001b[0;34m:\u001b[0m\u001b[0;34m\u001b[0m\u001b[0;34m\u001b[0m\u001b[0m\n\u001b[1;32m     14\u001b[0m                     \u001b[0mdo_return\u001b[0m \u001b[0;34m=\u001b[0m \u001b[0;32mTrue\u001b[0m\u001b[0;34m\u001b[0m\u001b[0;34m\u001b[0m\u001b[0m\n\u001b[0;32m---> 15\u001b[0;31m                     \u001b[0mretval_\u001b[0m \u001b[0;34m=\u001b[0m \u001b[0mag__\u001b[0m\u001b[0;34m.\u001b[0m\u001b[0mconverted_call\u001b[0m\u001b[0;34m(\u001b[0m\u001b[0mag__\u001b[0m\u001b[0;34m.\u001b[0m\u001b[0mld\u001b[0m\u001b[0;34m(\u001b[0m\u001b[0mstep_function\u001b[0m\u001b[0;34m)\u001b[0m\u001b[0;34m,\u001b[0m \u001b[0;34m(\u001b[0m\u001b[0mag__\u001b[0m\u001b[0;34m.\u001b[0m\u001b[0mld\u001b[0m\u001b[0;34m(\u001b[0m\u001b[0mself\u001b[0m\u001b[0;34m)\u001b[0m\u001b[0;34m,\u001b[0m \u001b[0mag__\u001b[0m\u001b[0;34m.\u001b[0m\u001b[0mld\u001b[0m\u001b[0;34m(\u001b[0m\u001b[0miterator\u001b[0m\u001b[0;34m)\u001b[0m\u001b[0;34m)\u001b[0m\u001b[0;34m,\u001b[0m \u001b[0;32mNone\u001b[0m\u001b[0;34m,\u001b[0m \u001b[0mfscope\u001b[0m\u001b[0;34m)\u001b[0m\u001b[0;34m\u001b[0m\u001b[0;34m\u001b[0m\u001b[0m\n\u001b[0m\u001b[1;32m     16\u001b[0m                 \u001b[0;32mexcept\u001b[0m\u001b[0;34m:\u001b[0m\u001b[0;34m\u001b[0m\u001b[0;34m\u001b[0m\u001b[0m\n\u001b[1;32m     17\u001b[0m                     \u001b[0mdo_return\u001b[0m \u001b[0;34m=\u001b[0m \u001b[0;32mFalse\u001b[0m\u001b[0;34m\u001b[0m\u001b[0;34m\u001b[0m\u001b[0m\n",
            "\u001b[0;31mValueError\u001b[0m: in user code:\n\n    File \"/usr/local/lib/python3.10/dist-packages/keras/engine/training.py\", line 1284, in train_function  *\n        return step_function(self, iterator)\n    File \"/usr/local/lib/python3.10/dist-packages/keras/engine/training.py\", line 1268, in step_function  **\n        outputs = model.distribute_strategy.run(run_step, args=(data,))\n    File \"/usr/local/lib/python3.10/dist-packages/keras/engine/training.py\", line 1249, in run_step  **\n        outputs = model.train_step(data)\n    File \"/usr/local/lib/python3.10/dist-packages/keras/engine/training.py\", line 1051, in train_step\n        loss = self.compute_loss(x, y, y_pred, sample_weight)\n    File \"/usr/local/lib/python3.10/dist-packages/keras/engine/training.py\", line 1109, in compute_loss\n        return self.compiled_loss(\n    File \"/usr/local/lib/python3.10/dist-packages/keras/engine/compile_utils.py\", line 265, in __call__\n        loss_value = loss_obj(y_t, y_p, sample_weight=sw)\n    File \"/usr/local/lib/python3.10/dist-packages/keras/losses.py\", line 142, in __call__\n        losses = call_fn(y_true, y_pred)\n    File \"/usr/local/lib/python3.10/dist-packages/keras/losses.py\", line 268, in call  **\n        return ag_fn(y_true, y_pred, **self._fn_kwargs)\n    File \"/usr/local/lib/python3.10/dist-packages/keras/losses.py\", line 1984, in categorical_crossentropy\n        return backend.categorical_crossentropy(\n    File \"/usr/local/lib/python3.10/dist-packages/keras/backend.py\", line 5559, in categorical_crossentropy\n        target.shape.assert_is_compatible_with(output.shape)\n\n    ValueError: Shapes (None, 1) and (None, 5) are incompatible\n"
          ]
        }
      ]
    },
    {
      "cell_type": "code",
      "source": [
        "len(class_names)"
      ],
      "metadata": {
        "id": "Wb5TvHk8zcc5"
      },
      "execution_count": null,
      "outputs": []
    },
    {
      "cell_type": "code",
      "source": [
        "np.array(train_sentences).shape"
      ],
      "metadata": {
        "id": "w5Q5_TU20dH4",
        "outputId": "7774092c-b393-4031-ee02-e004a205e64e",
        "colab": {
          "base_uri": "https://localhost:8080/"
        }
      },
      "execution_count": 80,
      "outputs": [
        {
          "output_type": "execute_result",
          "data": {
            "text/plain": [
              "(30212,)"
            ]
          },
          "metadata": {},
          "execution_count": 80
        }
      ]
    },
    {
      "cell_type": "code",
      "source": [],
      "metadata": {
        "id": "Cgr8d44Z6ldE"
      },
      "execution_count": null,
      "outputs": []
    }
  ],
  "metadata": {
    "kernelspec": {
      "display_name": "Python 3",
      "name": "python3"
    },
    "language_info": {
      "codemirror_mode": {
        "name": "ipython",
        "version": 3
      },
      "file_extension": ".py",
      "mimetype": "text/x-python",
      "name": "python",
      "nbconvert_exporter": "python",
      "pygments_lexer": "ipython3",
      "version": "3.10.4"
    },
    "orig_nbformat": 4,
    "colab": {
      "provenance": [],
      "gpuType": "T4",
      "include_colab_link": true
    },
    "accelerator": "GPU"
  },
  "nbformat": 4,
  "nbformat_minor": 0
}